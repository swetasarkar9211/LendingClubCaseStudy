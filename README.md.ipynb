{
 "cells": [
  {
   "cell_type": "markdown",
   "id": "7f4493e3",
   "metadata": {},
   "source": [
    "# Project Name and Description\n",
    "\n",
    "LENDING CLUB CASE STUDY\n",
    "\n",
    "Analysis in banking and financial services on how data is used to minimise the risk of losing money while lending to customers.\n",
    "Method of analysis : Exploratory Data Analysis(EDA)\n",
    "\n",
    "## Business knowledge\n",
    "\n",
    "- A consumer finance company is specialised in lending various types of loans to urban customers. This company is the largest online loan marketplace facilitating personal loans, business loans and financing for medical procedures. \n",
    "- Borrowers can easily access lower interest rate loans through a fast online interface. Lending loans to 'risky' applicants is the largest source of financial loss (CREDIT LOSS). \n",
    "- CREDIT LOSS - Amount of money lost by lender when a borrower refuses to pay or runs away with the money owned. These borrowers are said to be 'defaulted' customers.\n",
    "- When the company receives a loan application, 'loan approval decision' has to be taken by the company based on applicant's profile.\n",
    "\n",
    "## Conclusions\n",
    "\n",
    "- 5 Major predictors (strong indicators) of deciding whether a loan applicant tend to default or not :\n",
    "    1. DTI \n",
    "    2. Grades\n",
    "    3. Verification Status\n",
    "    4. Annual income\n",
    "    5. Pub_rec_bankruptcies\n",
    "\n",
    "## Libraries Used\n",
    "\n",
    "- pandas \n",
    "- numpy\n",
    "- matplotlib.pyplot\n",
    "- seaborn \n",
    "\n",
    "\n",
    "## Contact\n",
    "Created by [@swetasarkar9211] - feel free to contact me!"
   ]
  },
  {
   "cell_type": "code",
   "execution_count": null,
   "id": "fa3c3895",
   "metadata": {},
   "outputs": [],
   "source": []
  }
 ],
 "metadata": {
  "kernelspec": {
   "display_name": "Python 3 (ipykernel)",
   "language": "python",
   "name": "python3"
  },
  "language_info": {
   "codemirror_mode": {
    "name": "ipython",
    "version": 3
   },
   "file_extension": ".py",
   "mimetype": "text/x-python",
   "name": "python",
   "nbconvert_exporter": "python",
   "pygments_lexer": "ipython3",
   "version": "3.9.7"
  }
 },
 "nbformat": 4,
 "nbformat_minor": 5
}
