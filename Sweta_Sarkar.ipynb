{
 "cells": [
  {
   "cell_type": "markdown",
   "id": "5ca79806",
   "metadata": {},
   "source": [
    "# PROJECT : \n",
    "## LENDING CLUB CASE STUDY\n",
    ">Analysis in banking and financial services on how data is used to minimise the risk of losing money while lending to customers. <br>\n",
    ">Method of analysis : __Exploratory Data Analysis(EDA)__\n",
    "#### BUSINESS OBJECTIVES : \n",
    ">A consumer finance company is specialised in lending various types of loans to urban customers. This company is the largest __online loan marketplace facilitating personal loans, business loans and financing for medical procedures__. Borrowers can easily access lower interest rate loans through a fast online interface. Lending loans to __'risky'__ applicants is the largest source of financial loss (CREDIT LOSS). __CREDIT LOSS__ - Amount of money lost by lender when a borrower refuses to pay or runs away with the money owned. These borrowers are said to be 'defaulted' customers.\n",
    ">When the company receives a loan application, __'loan approval decision'__ has to be taken by the company based on applicant's profile.There are two types of risks in approving loans, which may lead to __CREDIT LOSS__ for the company.\n",
    ">#### RISKS :\n",
    ">- If the applicant is __likely to repay__ the loan, then __not approving loan__ is a loss of business __(rejecting loans for non - default)__.\n",
    ">- If the applicant is __not likely to repay__ the loan, then __approving loan__ may lead to financial loss __(approving loans for default)__.\n",
    "\n",
    ">The given dataset contains information about past loans and each row represents the loan details of the applicants. \n",
    "#### AIM OF THE PROJECT : \n",
    ">Aim is to identify patterns that indicates whether an applicant is likely to __'default'__, so that the company can decide either to deny the loan or reduce the loan amount or lend the loan amount for higher interest rates. Risky loan applicants have to be identified so that the company can cut down the amount of CREDIT LOSS. \n",
    "We use __Exploratory Data Analysis (EDA)__ for this purpose. __Driver variables__ (variables which are strong indicators of 'DEFAULT') have to be identified behind loan 'default' so that the company can use this knowledge for its __Portfolio and Risk assessment__.\n",
    ">When a person applies for a loan, __2 types of decisions taken by the company__ : \n",
    ">#### 1. Loan Accepted : \n",
    ">>  If the company approves loan, the 3 possible scenarios are : \n",
    ">>   - __Fully Paid__ : Fully paid applicant (Principal + Interest) ('not defaulted').\n",
    ">>   - __Current__ : Applicant is in the process of paying installments (tenure of loan is not yet completed - 'not defaulted')\n",
    ">>   - __Charged Off__ : Applicant did not pay the installments in due time for longer time period ('defaulted')\n",
    ">#### 2. Loan Rejected :\n",
    ">>  Company has __rejected the loan__ and so transaction details are not available in the dataset.  \n",
    "## Four major parts of this project : \n",
    ">1. Data understanding\n",
    ">2. Data cleaning which involves \n",
    ">3. Data Analysis \n",
    ">4. Recommendations      "
   ]
  },
  {
   "cell_type": "markdown",
   "id": "459cc490",
   "metadata": {},
   "source": [
    "## 1. DATA UNDERSTANDING\n"
   ]
  },
  {
   "cell_type": "markdown",
   "id": "5ccbae29",
   "metadata": {},
   "source": [
    "## Import required libraries"
   ]
  },
  {
   "cell_type": "code",
   "execution_count": 2,
   "id": "7884be83",
   "metadata": {},
   "outputs": [],
   "source": [
    "import pandas as pd\n",
    "import numpy as np\n",
    "import matplotlib.pyplot as plt\n",
    "import seaborn as sns\n",
    "import datetime as dt\n",
    "import warnings"
   ]
  },
  {
   "cell_type": "markdown",
   "id": "71be54ef",
   "metadata": {},
   "source": [
    "### Read the \"loan\" Dataset"
   ]
  },
  {
   "cell_type": "code",
   "execution_count": 3,
   "id": "9cce34e6",
   "metadata": {},
   "outputs": [
    {
     "data": {
      "text/html": [
       "<div>\n",
       "<style scoped>\n",
       "    .dataframe tbody tr th:only-of-type {\n",
       "        vertical-align: middle;\n",
       "    }\n",
       "\n",
       "    .dataframe tbody tr th {\n",
       "        vertical-align: top;\n",
       "    }\n",
       "\n",
       "    .dataframe thead th {\n",
       "        text-align: right;\n",
       "    }\n",
       "</style>\n",
       "<table border=\"1\" class=\"dataframe\">\n",
       "  <thead>\n",
       "    <tr style=\"text-align: right;\">\n",
       "      <th></th>\n",
       "      <th>id</th>\n",
       "      <th>member_id</th>\n",
       "      <th>loan_amnt</th>\n",
       "      <th>funded_amnt</th>\n",
       "      <th>funded_amnt_inv</th>\n",
       "      <th>term</th>\n",
       "      <th>int_rate</th>\n",
       "      <th>installment</th>\n",
       "      <th>grade</th>\n",
       "      <th>sub_grade</th>\n",
       "      <th>...</th>\n",
       "      <th>num_tl_90g_dpd_24m</th>\n",
       "      <th>num_tl_op_past_12m</th>\n",
       "      <th>pct_tl_nvr_dlq</th>\n",
       "      <th>percent_bc_gt_75</th>\n",
       "      <th>pub_rec_bankruptcies</th>\n",
       "      <th>tax_liens</th>\n",
       "      <th>tot_hi_cred_lim</th>\n",
       "      <th>total_bal_ex_mort</th>\n",
       "      <th>total_bc_limit</th>\n",
       "      <th>total_il_high_credit_limit</th>\n",
       "    </tr>\n",
       "  </thead>\n",
       "  <tbody>\n",
       "    <tr>\n",
       "      <th>0</th>\n",
       "      <td>1077501</td>\n",
       "      <td>1296599</td>\n",
       "      <td>5000</td>\n",
       "      <td>5000</td>\n",
       "      <td>4975</td>\n",
       "      <td>36 months</td>\n",
       "      <td>10.65%</td>\n",
       "      <td>162.87</td>\n",
       "      <td>B</td>\n",
       "      <td>B2</td>\n",
       "      <td>...</td>\n",
       "      <td>NaN</td>\n",
       "      <td>NaN</td>\n",
       "      <td>NaN</td>\n",
       "      <td>NaN</td>\n",
       "      <td>0</td>\n",
       "      <td>0</td>\n",
       "      <td>NaN</td>\n",
       "      <td>NaN</td>\n",
       "      <td>NaN</td>\n",
       "      <td>NaN</td>\n",
       "    </tr>\n",
       "    <tr>\n",
       "      <th>1</th>\n",
       "      <td>1077430</td>\n",
       "      <td>1314167</td>\n",
       "      <td>2500</td>\n",
       "      <td>2500</td>\n",
       "      <td>2500</td>\n",
       "      <td>60 months</td>\n",
       "      <td>15.27%</td>\n",
       "      <td>59.83</td>\n",
       "      <td>C</td>\n",
       "      <td>C4</td>\n",
       "      <td>...</td>\n",
       "      <td>NaN</td>\n",
       "      <td>NaN</td>\n",
       "      <td>NaN</td>\n",
       "      <td>NaN</td>\n",
       "      <td>0</td>\n",
       "      <td>0</td>\n",
       "      <td>NaN</td>\n",
       "      <td>NaN</td>\n",
       "      <td>NaN</td>\n",
       "      <td>NaN</td>\n",
       "    </tr>\n",
       "    <tr>\n",
       "      <th>2</th>\n",
       "      <td>1077175</td>\n",
       "      <td>1313524</td>\n",
       "      <td>2400</td>\n",
       "      <td>2400</td>\n",
       "      <td>2400</td>\n",
       "      <td>36 months</td>\n",
       "      <td>15.96%</td>\n",
       "      <td>84.33</td>\n",
       "      <td>C</td>\n",
       "      <td>C5</td>\n",
       "      <td>...</td>\n",
       "      <td>NaN</td>\n",
       "      <td>NaN</td>\n",
       "      <td>NaN</td>\n",
       "      <td>NaN</td>\n",
       "      <td>0</td>\n",
       "      <td>0</td>\n",
       "      <td>NaN</td>\n",
       "      <td>NaN</td>\n",
       "      <td>NaN</td>\n",
       "      <td>NaN</td>\n",
       "    </tr>\n",
       "    <tr>\n",
       "      <th>3</th>\n",
       "      <td>1076863</td>\n",
       "      <td>1277178</td>\n",
       "      <td>10000</td>\n",
       "      <td>10000</td>\n",
       "      <td>10000</td>\n",
       "      <td>36 months</td>\n",
       "      <td>13.49%</td>\n",
       "      <td>339.31</td>\n",
       "      <td>C</td>\n",
       "      <td>C1</td>\n",
       "      <td>...</td>\n",
       "      <td>NaN</td>\n",
       "      <td>NaN</td>\n",
       "      <td>NaN</td>\n",
       "      <td>NaN</td>\n",
       "      <td>0</td>\n",
       "      <td>0</td>\n",
       "      <td>NaN</td>\n",
       "      <td>NaN</td>\n",
       "      <td>NaN</td>\n",
       "      <td>NaN</td>\n",
       "    </tr>\n",
       "    <tr>\n",
       "      <th>4</th>\n",
       "      <td>1075358</td>\n",
       "      <td>1311748</td>\n",
       "      <td>3000</td>\n",
       "      <td>3000</td>\n",
       "      <td>3000</td>\n",
       "      <td>60 months</td>\n",
       "      <td>12.69%</td>\n",
       "      <td>67.79</td>\n",
       "      <td>B</td>\n",
       "      <td>B5</td>\n",
       "      <td>...</td>\n",
       "      <td>NaN</td>\n",
       "      <td>NaN</td>\n",
       "      <td>NaN</td>\n",
       "      <td>NaN</td>\n",
       "      <td>0</td>\n",
       "      <td>0</td>\n",
       "      <td>NaN</td>\n",
       "      <td>NaN</td>\n",
       "      <td>NaN</td>\n",
       "      <td>NaN</td>\n",
       "    </tr>\n",
       "    <tr>\n",
       "      <th>...</th>\n",
       "      <td>...</td>\n",
       "      <td>...</td>\n",
       "      <td>...</td>\n",
       "      <td>...</td>\n",
       "      <td>...</td>\n",
       "      <td>...</td>\n",
       "      <td>...</td>\n",
       "      <td>...</td>\n",
       "      <td>...</td>\n",
       "      <td>...</td>\n",
       "      <td>...</td>\n",
       "      <td>...</td>\n",
       "      <td>...</td>\n",
       "      <td>...</td>\n",
       "      <td>...</td>\n",
       "      <td>...</td>\n",
       "      <td>...</td>\n",
       "      <td>...</td>\n",
       "      <td>...</td>\n",
       "      <td>...</td>\n",
       "      <td>...</td>\n",
       "    </tr>\n",
       "    <tr>\n",
       "      <th>39712</th>\n",
       "      <td>92187</td>\n",
       "      <td>92174</td>\n",
       "      <td>2500</td>\n",
       "      <td>2500</td>\n",
       "      <td>1075</td>\n",
       "      <td>36 months</td>\n",
       "      <td>8.07%</td>\n",
       "      <td>78.42</td>\n",
       "      <td>A</td>\n",
       "      <td>A4</td>\n",
       "      <td>...</td>\n",
       "      <td>NaN</td>\n",
       "      <td>NaN</td>\n",
       "      <td>NaN</td>\n",
       "      <td>NaN</td>\n",
       "      <td>NaN</td>\n",
       "      <td>NaN</td>\n",
       "      <td>NaN</td>\n",
       "      <td>NaN</td>\n",
       "      <td>NaN</td>\n",
       "      <td>NaN</td>\n",
       "    </tr>\n",
       "    <tr>\n",
       "      <th>39713</th>\n",
       "      <td>90665</td>\n",
       "      <td>90607</td>\n",
       "      <td>8500</td>\n",
       "      <td>8500</td>\n",
       "      <td>875</td>\n",
       "      <td>36 months</td>\n",
       "      <td>10.28%</td>\n",
       "      <td>275.38</td>\n",
       "      <td>C</td>\n",
       "      <td>C1</td>\n",
       "      <td>...</td>\n",
       "      <td>NaN</td>\n",
       "      <td>NaN</td>\n",
       "      <td>NaN</td>\n",
       "      <td>NaN</td>\n",
       "      <td>NaN</td>\n",
       "      <td>NaN</td>\n",
       "      <td>NaN</td>\n",
       "      <td>NaN</td>\n",
       "      <td>NaN</td>\n",
       "      <td>NaN</td>\n",
       "    </tr>\n",
       "    <tr>\n",
       "      <th>39714</th>\n",
       "      <td>90395</td>\n",
       "      <td>90390</td>\n",
       "      <td>5000</td>\n",
       "      <td>5000</td>\n",
       "      <td>1325</td>\n",
       "      <td>36 months</td>\n",
       "      <td>8.07%</td>\n",
       "      <td>156.84</td>\n",
       "      <td>A</td>\n",
       "      <td>A4</td>\n",
       "      <td>...</td>\n",
       "      <td>NaN</td>\n",
       "      <td>NaN</td>\n",
       "      <td>NaN</td>\n",
       "      <td>NaN</td>\n",
       "      <td>NaN</td>\n",
       "      <td>NaN</td>\n",
       "      <td>NaN</td>\n",
       "      <td>NaN</td>\n",
       "      <td>NaN</td>\n",
       "      <td>NaN</td>\n",
       "    </tr>\n",
       "    <tr>\n",
       "      <th>39715</th>\n",
       "      <td>90376</td>\n",
       "      <td>89243</td>\n",
       "      <td>5000</td>\n",
       "      <td>5000</td>\n",
       "      <td>650</td>\n",
       "      <td>36 months</td>\n",
       "      <td>7.43%</td>\n",
       "      <td>155.38</td>\n",
       "      <td>A</td>\n",
       "      <td>A2</td>\n",
       "      <td>...</td>\n",
       "      <td>NaN</td>\n",
       "      <td>NaN</td>\n",
       "      <td>NaN</td>\n",
       "      <td>NaN</td>\n",
       "      <td>NaN</td>\n",
       "      <td>NaN</td>\n",
       "      <td>NaN</td>\n",
       "      <td>NaN</td>\n",
       "      <td>NaN</td>\n",
       "      <td>NaN</td>\n",
       "    </tr>\n",
       "    <tr>\n",
       "      <th>39716</th>\n",
       "      <td>87023</td>\n",
       "      <td>86999</td>\n",
       "      <td>7500</td>\n",
       "      <td>7500</td>\n",
       "      <td>800</td>\n",
       "      <td>36 months</td>\n",
       "      <td>13.75%</td>\n",
       "      <td>255.43</td>\n",
       "      <td>E</td>\n",
       "      <td>E2</td>\n",
       "      <td>...</td>\n",
       "      <td>NaN</td>\n",
       "      <td>NaN</td>\n",
       "      <td>NaN</td>\n",
       "      <td>NaN</td>\n",
       "      <td>NaN</td>\n",
       "      <td>NaN</td>\n",
       "      <td>NaN</td>\n",
       "      <td>NaN</td>\n",
       "      <td>NaN</td>\n",
       "      <td>NaN</td>\n",
       "    </tr>\n",
       "  </tbody>\n",
       "</table>\n",
       "<p>39717 rows × 111 columns</p>\n",
       "</div>"
      ],
      "text/plain": [
       "            id member_id loan_amnt funded_amnt funded_amnt_inv        term  \\\n",
       "0      1077501   1296599      5000        5000            4975   36 months   \n",
       "1      1077430   1314167      2500        2500            2500   60 months   \n",
       "2      1077175   1313524      2400        2400            2400   36 months   \n",
       "3      1076863   1277178     10000       10000           10000   36 months   \n",
       "4      1075358   1311748      3000        3000            3000   60 months   \n",
       "...        ...       ...       ...         ...             ...         ...   \n",
       "39712    92187     92174      2500        2500            1075   36 months   \n",
       "39713    90665     90607      8500        8500             875   36 months   \n",
       "39714    90395     90390      5000        5000            1325   36 months   \n",
       "39715    90376     89243      5000        5000             650   36 months   \n",
       "39716    87023     86999      7500        7500             800   36 months   \n",
       "\n",
       "      int_rate installment grade sub_grade  ... num_tl_90g_dpd_24m  \\\n",
       "0       10.65%      162.87     B        B2  ...                NaN   \n",
       "1       15.27%       59.83     C        C4  ...                NaN   \n",
       "2       15.96%       84.33     C        C5  ...                NaN   \n",
       "3       13.49%      339.31     C        C1  ...                NaN   \n",
       "4       12.69%       67.79     B        B5  ...                NaN   \n",
       "...        ...         ...   ...       ...  ...                ...   \n",
       "39712    8.07%       78.42     A        A4  ...                NaN   \n",
       "39713   10.28%      275.38     C        C1  ...                NaN   \n",
       "39714    8.07%      156.84     A        A4  ...                NaN   \n",
       "39715    7.43%      155.38     A        A2  ...                NaN   \n",
       "39716   13.75%      255.43     E        E2  ...                NaN   \n",
       "\n",
       "      num_tl_op_past_12m pct_tl_nvr_dlq percent_bc_gt_75 pub_rec_bankruptcies  \\\n",
       "0                    NaN            NaN              NaN                    0   \n",
       "1                    NaN            NaN              NaN                    0   \n",
       "2                    NaN            NaN              NaN                    0   \n",
       "3                    NaN            NaN              NaN                    0   \n",
       "4                    NaN            NaN              NaN                    0   \n",
       "...                  ...            ...              ...                  ...   \n",
       "39712                NaN            NaN              NaN                  NaN   \n",
       "39713                NaN            NaN              NaN                  NaN   \n",
       "39714                NaN            NaN              NaN                  NaN   \n",
       "39715                NaN            NaN              NaN                  NaN   \n",
       "39716                NaN            NaN              NaN                  NaN   \n",
       "\n",
       "      tax_liens tot_hi_cred_lim total_bal_ex_mort total_bc_limit  \\\n",
       "0             0             NaN               NaN            NaN   \n",
       "1             0             NaN               NaN            NaN   \n",
       "2             0             NaN               NaN            NaN   \n",
       "3             0             NaN               NaN            NaN   \n",
       "4             0             NaN               NaN            NaN   \n",
       "...         ...             ...               ...            ...   \n",
       "39712       NaN             NaN               NaN            NaN   \n",
       "39713       NaN             NaN               NaN            NaN   \n",
       "39714       NaN             NaN               NaN            NaN   \n",
       "39715       NaN             NaN               NaN            NaN   \n",
       "39716       NaN             NaN               NaN            NaN   \n",
       "\n",
       "      total_il_high_credit_limit  \n",
       "0                            NaN  \n",
       "1                            NaN  \n",
       "2                            NaN  \n",
       "3                            NaN  \n",
       "4                            NaN  \n",
       "...                          ...  \n",
       "39712                        NaN  \n",
       "39713                        NaN  \n",
       "39714                        NaN  \n",
       "39715                        NaN  \n",
       "39716                        NaN  \n",
       "\n",
       "[39717 rows x 111 columns]"
      ]
     },
     "execution_count": 3,
     "metadata": {},
     "output_type": "execute_result"
    }
   ],
   "source": [
    "# Creating Dataset\n",
    "\n",
    "loan_df = pd.read_csv(r'/Users/swetasarkar/Desktop/loan .csv', low_memory=False, dtype='unicode')\n",
    "loan_df"
   ]
  },
  {
   "cell_type": "code",
   "execution_count": 4,
   "id": "b57e9fbc",
   "metadata": {},
   "outputs": [
    {
     "data": {
      "text/html": [
       "<div>\n",
       "<style scoped>\n",
       "    .dataframe tbody tr th:only-of-type {\n",
       "        vertical-align: middle;\n",
       "    }\n",
       "\n",
       "    .dataframe tbody tr th {\n",
       "        vertical-align: top;\n",
       "    }\n",
       "\n",
       "    .dataframe thead th {\n",
       "        text-align: right;\n",
       "    }\n",
       "</style>\n",
       "<table border=\"1\" class=\"dataframe\">\n",
       "  <thead>\n",
       "    <tr style=\"text-align: right;\">\n",
       "      <th></th>\n",
       "      <th>id</th>\n",
       "      <th>member_id</th>\n",
       "      <th>loan_amnt</th>\n",
       "      <th>funded_amnt</th>\n",
       "      <th>funded_amnt_inv</th>\n",
       "      <th>term</th>\n",
       "      <th>int_rate</th>\n",
       "      <th>installment</th>\n",
       "      <th>grade</th>\n",
       "      <th>sub_grade</th>\n",
       "      <th>...</th>\n",
       "      <th>num_tl_90g_dpd_24m</th>\n",
       "      <th>num_tl_op_past_12m</th>\n",
       "      <th>pct_tl_nvr_dlq</th>\n",
       "      <th>percent_bc_gt_75</th>\n",
       "      <th>pub_rec_bankruptcies</th>\n",
       "      <th>tax_liens</th>\n",
       "      <th>tot_hi_cred_lim</th>\n",
       "      <th>total_bal_ex_mort</th>\n",
       "      <th>total_bc_limit</th>\n",
       "      <th>total_il_high_credit_limit</th>\n",
       "    </tr>\n",
       "  </thead>\n",
       "  <tbody>\n",
       "    <tr>\n",
       "      <th>0</th>\n",
       "      <td>1077501</td>\n",
       "      <td>1296599</td>\n",
       "      <td>5000</td>\n",
       "      <td>5000</td>\n",
       "      <td>4975</td>\n",
       "      <td>36 months</td>\n",
       "      <td>10.65%</td>\n",
       "      <td>162.87</td>\n",
       "      <td>B</td>\n",
       "      <td>B2</td>\n",
       "      <td>...</td>\n",
       "      <td>NaN</td>\n",
       "      <td>NaN</td>\n",
       "      <td>NaN</td>\n",
       "      <td>NaN</td>\n",
       "      <td>0</td>\n",
       "      <td>0</td>\n",
       "      <td>NaN</td>\n",
       "      <td>NaN</td>\n",
       "      <td>NaN</td>\n",
       "      <td>NaN</td>\n",
       "    </tr>\n",
       "    <tr>\n",
       "      <th>1</th>\n",
       "      <td>1077430</td>\n",
       "      <td>1314167</td>\n",
       "      <td>2500</td>\n",
       "      <td>2500</td>\n",
       "      <td>2500</td>\n",
       "      <td>60 months</td>\n",
       "      <td>15.27%</td>\n",
       "      <td>59.83</td>\n",
       "      <td>C</td>\n",
       "      <td>C4</td>\n",
       "      <td>...</td>\n",
       "      <td>NaN</td>\n",
       "      <td>NaN</td>\n",
       "      <td>NaN</td>\n",
       "      <td>NaN</td>\n",
       "      <td>0</td>\n",
       "      <td>0</td>\n",
       "      <td>NaN</td>\n",
       "      <td>NaN</td>\n",
       "      <td>NaN</td>\n",
       "      <td>NaN</td>\n",
       "    </tr>\n",
       "    <tr>\n",
       "      <th>2</th>\n",
       "      <td>1077175</td>\n",
       "      <td>1313524</td>\n",
       "      <td>2400</td>\n",
       "      <td>2400</td>\n",
       "      <td>2400</td>\n",
       "      <td>36 months</td>\n",
       "      <td>15.96%</td>\n",
       "      <td>84.33</td>\n",
       "      <td>C</td>\n",
       "      <td>C5</td>\n",
       "      <td>...</td>\n",
       "      <td>NaN</td>\n",
       "      <td>NaN</td>\n",
       "      <td>NaN</td>\n",
       "      <td>NaN</td>\n",
       "      <td>0</td>\n",
       "      <td>0</td>\n",
       "      <td>NaN</td>\n",
       "      <td>NaN</td>\n",
       "      <td>NaN</td>\n",
       "      <td>NaN</td>\n",
       "    </tr>\n",
       "    <tr>\n",
       "      <th>3</th>\n",
       "      <td>1076863</td>\n",
       "      <td>1277178</td>\n",
       "      <td>10000</td>\n",
       "      <td>10000</td>\n",
       "      <td>10000</td>\n",
       "      <td>36 months</td>\n",
       "      <td>13.49%</td>\n",
       "      <td>339.31</td>\n",
       "      <td>C</td>\n",
       "      <td>C1</td>\n",
       "      <td>...</td>\n",
       "      <td>NaN</td>\n",
       "      <td>NaN</td>\n",
       "      <td>NaN</td>\n",
       "      <td>NaN</td>\n",
       "      <td>0</td>\n",
       "      <td>0</td>\n",
       "      <td>NaN</td>\n",
       "      <td>NaN</td>\n",
       "      <td>NaN</td>\n",
       "      <td>NaN</td>\n",
       "    </tr>\n",
       "    <tr>\n",
       "      <th>4</th>\n",
       "      <td>1075358</td>\n",
       "      <td>1311748</td>\n",
       "      <td>3000</td>\n",
       "      <td>3000</td>\n",
       "      <td>3000</td>\n",
       "      <td>60 months</td>\n",
       "      <td>12.69%</td>\n",
       "      <td>67.79</td>\n",
       "      <td>B</td>\n",
       "      <td>B5</td>\n",
       "      <td>...</td>\n",
       "      <td>NaN</td>\n",
       "      <td>NaN</td>\n",
       "      <td>NaN</td>\n",
       "      <td>NaN</td>\n",
       "      <td>0</td>\n",
       "      <td>0</td>\n",
       "      <td>NaN</td>\n",
       "      <td>NaN</td>\n",
       "      <td>NaN</td>\n",
       "      <td>NaN</td>\n",
       "    </tr>\n",
       "  </tbody>\n",
       "</table>\n",
       "<p>5 rows × 111 columns</p>\n",
       "</div>"
      ],
      "text/plain": [
       "        id member_id loan_amnt funded_amnt funded_amnt_inv        term  \\\n",
       "0  1077501   1296599      5000        5000            4975   36 months   \n",
       "1  1077430   1314167      2500        2500            2500   60 months   \n",
       "2  1077175   1313524      2400        2400            2400   36 months   \n",
       "3  1076863   1277178     10000       10000           10000   36 months   \n",
       "4  1075358   1311748      3000        3000            3000   60 months   \n",
       "\n",
       "  int_rate installment grade sub_grade  ... num_tl_90g_dpd_24m  \\\n",
       "0   10.65%      162.87     B        B2  ...                NaN   \n",
       "1   15.27%       59.83     C        C4  ...                NaN   \n",
       "2   15.96%       84.33     C        C5  ...                NaN   \n",
       "3   13.49%      339.31     C        C1  ...                NaN   \n",
       "4   12.69%       67.79     B        B5  ...                NaN   \n",
       "\n",
       "  num_tl_op_past_12m pct_tl_nvr_dlq percent_bc_gt_75 pub_rec_bankruptcies  \\\n",
       "0                NaN            NaN              NaN                    0   \n",
       "1                NaN            NaN              NaN                    0   \n",
       "2                NaN            NaN              NaN                    0   \n",
       "3                NaN            NaN              NaN                    0   \n",
       "4                NaN            NaN              NaN                    0   \n",
       "\n",
       "  tax_liens tot_hi_cred_lim total_bal_ex_mort total_bc_limit  \\\n",
       "0         0             NaN               NaN            NaN   \n",
       "1         0             NaN               NaN            NaN   \n",
       "2         0             NaN               NaN            NaN   \n",
       "3         0             NaN               NaN            NaN   \n",
       "4         0             NaN               NaN            NaN   \n",
       "\n",
       "  total_il_high_credit_limit  \n",
       "0                        NaN  \n",
       "1                        NaN  \n",
       "2                        NaN  \n",
       "3                        NaN  \n",
       "4                        NaN  \n",
       "\n",
       "[5 rows x 111 columns]"
      ]
     },
     "execution_count": 4,
     "metadata": {},
     "output_type": "execute_result"
    }
   ],
   "source": [
    "# First 5 records of the dataset\n",
    "\n",
    "loan_df.head()"
   ]
  },
  {
   "cell_type": "markdown",
   "id": "da1b890c",
   "metadata": {},
   "source": [
    "### Shape of the dataset(rows,columns)\n"
   ]
  },
  {
   "cell_type": "code",
   "execution_count": 5,
   "id": "db11a921",
   "metadata": {},
   "outputs": [
    {
     "data": {
      "text/plain": [
       "(39717, 111)"
      ]
     },
     "execution_count": 5,
     "metadata": {},
     "output_type": "execute_result"
    }
   ],
   "source": [
    "loan_df.shape"
   ]
  },
  {
   "cell_type": "markdown",
   "id": "3d9e9f22",
   "metadata": {},
   "source": [
    "### Basic information of the dataset"
   ]
  },
  {
   "cell_type": "code",
   "execution_count": 6,
   "id": "b044fff9",
   "metadata": {},
   "outputs": [
    {
     "name": "stdout",
     "output_type": "stream",
     "text": [
      "<class 'pandas.core.frame.DataFrame'>\n",
      "RangeIndex: 39717 entries, 0 to 39716\n",
      "Columns: 111 entries, id to total_il_high_credit_limit\n",
      "dtypes: object(111)\n",
      "memory usage: 33.6+ MB\n"
     ]
    }
   ],
   "source": [
    "loan_df.info()"
   ]
  },
  {
   "cell_type": "markdown",
   "id": "d36536ea",
   "metadata": {},
   "source": [
    "### Description of the dataset\n"
   ]
  },
  {
   "cell_type": "code",
   "execution_count": 7,
   "id": "bb2c9f24",
   "metadata": {},
   "outputs": [
    {
     "data": {
      "text/html": [
       "<div>\n",
       "<style scoped>\n",
       "    .dataframe tbody tr th:only-of-type {\n",
       "        vertical-align: middle;\n",
       "    }\n",
       "\n",
       "    .dataframe tbody tr th {\n",
       "        vertical-align: top;\n",
       "    }\n",
       "\n",
       "    .dataframe thead th {\n",
       "        text-align: right;\n",
       "    }\n",
       "</style>\n",
       "<table border=\"1\" class=\"dataframe\">\n",
       "  <thead>\n",
       "    <tr style=\"text-align: right;\">\n",
       "      <th></th>\n",
       "      <th>id</th>\n",
       "      <th>member_id</th>\n",
       "      <th>loan_amnt</th>\n",
       "      <th>funded_amnt</th>\n",
       "      <th>funded_amnt_inv</th>\n",
       "      <th>term</th>\n",
       "      <th>int_rate</th>\n",
       "      <th>installment</th>\n",
       "      <th>grade</th>\n",
       "      <th>sub_grade</th>\n",
       "      <th>...</th>\n",
       "      <th>num_tl_90g_dpd_24m</th>\n",
       "      <th>num_tl_op_past_12m</th>\n",
       "      <th>pct_tl_nvr_dlq</th>\n",
       "      <th>percent_bc_gt_75</th>\n",
       "      <th>pub_rec_bankruptcies</th>\n",
       "      <th>tax_liens</th>\n",
       "      <th>tot_hi_cred_lim</th>\n",
       "      <th>total_bal_ex_mort</th>\n",
       "      <th>total_bc_limit</th>\n",
       "      <th>total_il_high_credit_limit</th>\n",
       "    </tr>\n",
       "  </thead>\n",
       "  <tbody>\n",
       "    <tr>\n",
       "      <th>count</th>\n",
       "      <td>39717</td>\n",
       "      <td>39717</td>\n",
       "      <td>39717</td>\n",
       "      <td>39717</td>\n",
       "      <td>39717</td>\n",
       "      <td>39717</td>\n",
       "      <td>39717</td>\n",
       "      <td>39717</td>\n",
       "      <td>39717</td>\n",
       "      <td>39717</td>\n",
       "      <td>...</td>\n",
       "      <td>0</td>\n",
       "      <td>0</td>\n",
       "      <td>0</td>\n",
       "      <td>0</td>\n",
       "      <td>39020</td>\n",
       "      <td>39678</td>\n",
       "      <td>0</td>\n",
       "      <td>0</td>\n",
       "      <td>0</td>\n",
       "      <td>0</td>\n",
       "    </tr>\n",
       "    <tr>\n",
       "      <th>unique</th>\n",
       "      <td>39717</td>\n",
       "      <td>39717</td>\n",
       "      <td>885</td>\n",
       "      <td>1041</td>\n",
       "      <td>8205</td>\n",
       "      <td>2</td>\n",
       "      <td>371</td>\n",
       "      <td>15383</td>\n",
       "      <td>7</td>\n",
       "      <td>35</td>\n",
       "      <td>...</td>\n",
       "      <td>0</td>\n",
       "      <td>0</td>\n",
       "      <td>0</td>\n",
       "      <td>0</td>\n",
       "      <td>3</td>\n",
       "      <td>1</td>\n",
       "      <td>0</td>\n",
       "      <td>0</td>\n",
       "      <td>0</td>\n",
       "      <td>0</td>\n",
       "    </tr>\n",
       "    <tr>\n",
       "      <th>top</th>\n",
       "      <td>1077501</td>\n",
       "      <td>1296599</td>\n",
       "      <td>10000</td>\n",
       "      <td>10000</td>\n",
       "      <td>5000</td>\n",
       "      <td>36 months</td>\n",
       "      <td>10.99%</td>\n",
       "      <td>311.11</td>\n",
       "      <td>B</td>\n",
       "      <td>B3</td>\n",
       "      <td>...</td>\n",
       "      <td>NaN</td>\n",
       "      <td>NaN</td>\n",
       "      <td>NaN</td>\n",
       "      <td>NaN</td>\n",
       "      <td>0</td>\n",
       "      <td>0</td>\n",
       "      <td>NaN</td>\n",
       "      <td>NaN</td>\n",
       "      <td>NaN</td>\n",
       "      <td>NaN</td>\n",
       "    </tr>\n",
       "    <tr>\n",
       "      <th>freq</th>\n",
       "      <td>1</td>\n",
       "      <td>1</td>\n",
       "      <td>2833</td>\n",
       "      <td>2741</td>\n",
       "      <td>1309</td>\n",
       "      <td>29096</td>\n",
       "      <td>956</td>\n",
       "      <td>68</td>\n",
       "      <td>12020</td>\n",
       "      <td>2917</td>\n",
       "      <td>...</td>\n",
       "      <td>NaN</td>\n",
       "      <td>NaN</td>\n",
       "      <td>NaN</td>\n",
       "      <td>NaN</td>\n",
       "      <td>37339</td>\n",
       "      <td>39678</td>\n",
       "      <td>NaN</td>\n",
       "      <td>NaN</td>\n",
       "      <td>NaN</td>\n",
       "      <td>NaN</td>\n",
       "    </tr>\n",
       "  </tbody>\n",
       "</table>\n",
       "<p>4 rows × 111 columns</p>\n",
       "</div>"
      ],
      "text/plain": [
       "             id member_id loan_amnt funded_amnt funded_amnt_inv        term  \\\n",
       "count     39717     39717     39717       39717           39717       39717   \n",
       "unique    39717     39717       885        1041            8205           2   \n",
       "top     1077501   1296599     10000       10000            5000   36 months   \n",
       "freq          1         1      2833        2741            1309       29096   \n",
       "\n",
       "       int_rate installment  grade sub_grade  ... num_tl_90g_dpd_24m  \\\n",
       "count     39717       39717  39717     39717  ...                  0   \n",
       "unique      371       15383      7        35  ...                  0   \n",
       "top      10.99%      311.11      B        B3  ...                NaN   \n",
       "freq        956          68  12020      2917  ...                NaN   \n",
       "\n",
       "       num_tl_op_past_12m pct_tl_nvr_dlq percent_bc_gt_75  \\\n",
       "count                   0              0                0   \n",
       "unique                  0              0                0   \n",
       "top                   NaN            NaN              NaN   \n",
       "freq                  NaN            NaN              NaN   \n",
       "\n",
       "       pub_rec_bankruptcies tax_liens tot_hi_cred_lim total_bal_ex_mort  \\\n",
       "count                 39020     39678               0                 0   \n",
       "unique                    3         1               0                 0   \n",
       "top                       0         0             NaN               NaN   \n",
       "freq                  37339     39678             NaN               NaN   \n",
       "\n",
       "       total_bc_limit total_il_high_credit_limit  \n",
       "count               0                          0  \n",
       "unique              0                          0  \n",
       "top               NaN                        NaN  \n",
       "freq              NaN                        NaN  \n",
       "\n",
       "[4 rows x 111 columns]"
      ]
     },
     "execution_count": 7,
     "metadata": {},
     "output_type": "execute_result"
    }
   ],
   "source": [
    "loan_df.describe()"
   ]
  },
  {
   "cell_type": "markdown",
   "id": "8f146ff2",
   "metadata": {},
   "source": [
    "### Variables in the dataset "
   ]
  },
  {
   "cell_type": "code",
   "execution_count": 8,
   "id": "7443000f",
   "metadata": {},
   "outputs": [
    {
     "data": {
      "text/plain": [
       "{'acc_now_delinq',\n",
       " 'acc_open_past_24mths',\n",
       " 'addr_state',\n",
       " 'all_util',\n",
       " 'annual_inc',\n",
       " 'annual_inc_joint',\n",
       " 'application_type',\n",
       " 'avg_cur_bal',\n",
       " 'bc_open_to_buy',\n",
       " 'bc_util',\n",
       " 'chargeoff_within_12_mths',\n",
       " 'collection_recovery_fee',\n",
       " 'collections_12_mths_ex_med',\n",
       " 'delinq_2yrs',\n",
       " 'delinq_amnt',\n",
       " 'desc',\n",
       " 'dti',\n",
       " 'dti_joint',\n",
       " 'earliest_cr_line',\n",
       " 'emp_length',\n",
       " 'emp_title',\n",
       " 'funded_amnt',\n",
       " 'funded_amnt_inv',\n",
       " 'grade',\n",
       " 'home_ownership',\n",
       " 'id',\n",
       " 'il_util',\n",
       " 'initial_list_status',\n",
       " 'inq_fi',\n",
       " 'inq_last_12m',\n",
       " 'inq_last_6mths',\n",
       " 'installment',\n",
       " 'int_rate',\n",
       " 'issue_d',\n",
       " 'last_credit_pull_d',\n",
       " 'last_pymnt_amnt',\n",
       " 'last_pymnt_d',\n",
       " 'loan_amnt',\n",
       " 'loan_status',\n",
       " 'max_bal_bc',\n",
       " 'member_id',\n",
       " 'mo_sin_old_il_acct',\n",
       " 'mo_sin_old_rev_tl_op',\n",
       " 'mo_sin_rcnt_rev_tl_op',\n",
       " 'mo_sin_rcnt_tl',\n",
       " 'mort_acc',\n",
       " 'mths_since_last_delinq',\n",
       " 'mths_since_last_major_derog',\n",
       " 'mths_since_last_record',\n",
       " 'mths_since_rcnt_il',\n",
       " 'mths_since_recent_bc',\n",
       " 'mths_since_recent_bc_dlq',\n",
       " 'mths_since_recent_inq',\n",
       " 'mths_since_recent_revol_delinq',\n",
       " 'next_pymnt_d',\n",
       " 'num_accts_ever_120_pd',\n",
       " 'num_actv_bc_tl',\n",
       " 'num_actv_rev_tl',\n",
       " 'num_bc_sats',\n",
       " 'num_bc_tl',\n",
       " 'num_il_tl',\n",
       " 'num_op_rev_tl',\n",
       " 'num_rev_accts',\n",
       " 'num_rev_tl_bal_gt_0',\n",
       " 'num_sats',\n",
       " 'num_tl_120dpd_2m',\n",
       " 'num_tl_30dpd',\n",
       " 'num_tl_90g_dpd_24m',\n",
       " 'num_tl_op_past_12m',\n",
       " 'open_acc',\n",
       " 'open_acc_6m',\n",
       " 'open_il_12m',\n",
       " 'open_il_24m',\n",
       " 'open_il_6m',\n",
       " 'open_rv_12m',\n",
       " 'open_rv_24m',\n",
       " 'out_prncp',\n",
       " 'out_prncp_inv',\n",
       " 'pct_tl_nvr_dlq',\n",
       " 'percent_bc_gt_75',\n",
       " 'policy_code',\n",
       " 'pub_rec',\n",
       " 'pub_rec_bankruptcies',\n",
       " 'purpose',\n",
       " 'pymnt_plan',\n",
       " 'recoveries',\n",
       " 'revol_bal',\n",
       " 'revol_util',\n",
       " 'sub_grade',\n",
       " 'tax_liens',\n",
       " 'term',\n",
       " 'title',\n",
       " 'tot_coll_amt',\n",
       " 'tot_cur_bal',\n",
       " 'tot_hi_cred_lim',\n",
       " 'total_acc',\n",
       " 'total_bal_ex_mort',\n",
       " 'total_bal_il',\n",
       " 'total_bc_limit',\n",
       " 'total_cu_tl',\n",
       " 'total_il_high_credit_limit',\n",
       " 'total_pymnt',\n",
       " 'total_pymnt_inv',\n",
       " 'total_rec_int',\n",
       " 'total_rec_late_fee',\n",
       " 'total_rec_prncp',\n",
       " 'total_rev_hi_lim',\n",
       " 'url',\n",
       " 'verification_status',\n",
       " 'verification_status_joint',\n",
       " 'zip_code'}"
      ]
     },
     "execution_count": 8,
     "metadata": {},
     "output_type": "execute_result"
    }
   ],
   "source": [
    "set(loan_df)"
   ]
  },
  {
   "cell_type": "markdown",
   "id": "f3e2497a",
   "metadata": {},
   "source": [
    "### Basic cleanup of large number of missing values "
   ]
  },
  {
   "cell_type": "code",
   "execution_count": 9,
   "id": "d92e6e6d",
   "metadata": {},
   "outputs": [
    {
     "data": {
      "text/plain": [
       "id                                0\n",
       "member_id                         0\n",
       "loan_amnt                         0\n",
       "funded_amnt                       0\n",
       "funded_amnt_inv                   0\n",
       "                              ...  \n",
       "tax_liens                        39\n",
       "tot_hi_cred_lim               39717\n",
       "total_bal_ex_mort             39717\n",
       "total_bc_limit                39717\n",
       "total_il_high_credit_limit    39717\n",
       "Length: 111, dtype: int64"
      ]
     },
     "execution_count": 9,
     "metadata": {},
     "output_type": "execute_result"
    }
   ],
   "source": [
    "# Number of missing values in each column\n",
    "\n",
    "loan_df.isnull().sum()"
   ]
  },
  {
   "cell_type": "code",
   "execution_count": 10,
   "id": "8c55380f",
   "metadata": {},
   "outputs": [
    {
     "data": {
      "text/plain": [
       "verification_status_joint    100.0\n",
       "annual_inc_joint             100.0\n",
       "mo_sin_old_rev_tl_op         100.0\n",
       "mo_sin_old_il_acct           100.0\n",
       "bc_util                      100.0\n",
       "                             ...  \n",
       "delinq_amnt                    0.0\n",
       "policy_code                    0.0\n",
       "earliest_cr_line               0.0\n",
       "delinq_2yrs                    0.0\n",
       "id                             0.0\n",
       "Length: 111, dtype: float64"
      ]
     },
     "execution_count": 10,
     "metadata": {},
     "output_type": "execute_result"
    }
   ],
   "source": [
    "# Percentage of missing values in each column corresponding to total number of records\n",
    "\n",
    "round(100*(loan_df.isnull().sum()/len(loan_df.index)), 2).sort_values(ascending=False)"
   ]
  },
  {
   "cell_type": "code",
   "execution_count": 11,
   "id": "1426db8b",
   "metadata": {},
   "outputs": [],
   "source": [
    "'''\n",
    "The columns that possess more than 50% missing values are insignificant and may distort the analysis.\n",
    "So drop the columns that has more than 50% missing values.\n",
    "'''\n",
    "\n",
    "loan_df = loan_df.dropna(axis=1,thresh=int(len(loan_df.index)/2))"
   ]
  },
  {
   "cell_type": "code",
   "execution_count": 12,
   "id": "7272f032",
   "metadata": {},
   "outputs": [
    {
     "data": {
      "text/plain": [
       "desc                          32.58\n",
       "emp_title                      6.19\n",
       "emp_length                     2.71\n",
       "pub_rec_bankruptcies           1.75\n",
       "last_pymnt_d                   0.18\n",
       "collections_12_mths_ex_med     0.14\n",
       "chargeoff_within_12_mths       0.14\n",
       "revol_util                     0.13\n",
       "tax_liens                      0.10\n",
       "title                          0.03\n",
       "last_credit_pull_d             0.01\n",
       "total_rec_prncp                0.00\n",
       "out_prncp                      0.00\n",
       "initial_list_status            0.00\n",
       "out_prncp_inv                  0.00\n",
       "dtype: float64"
      ]
     },
     "execution_count": 12,
     "metadata": {},
     "output_type": "execute_result"
    }
   ],
   "source": [
    "# Percentage of missing values in each column corresponding to total number of records after dropping columns\n",
    "\n",
    "round(100*(loan_df.isnull().sum()/len(loan_df.index)), 2).sort_values(ascending=False).head(15)"
   ]
  },
  {
   "cell_type": "code",
   "execution_count": 13,
   "id": "972d136e",
   "metadata": {},
   "outputs": [
    {
     "data": {
      "text/plain": [
       "{'acc_now_delinq',\n",
       " 'addr_state',\n",
       " 'annual_inc',\n",
       " 'application_type',\n",
       " 'chargeoff_within_12_mths',\n",
       " 'collection_recovery_fee',\n",
       " 'collections_12_mths_ex_med',\n",
       " 'delinq_2yrs',\n",
       " 'delinq_amnt',\n",
       " 'desc',\n",
       " 'dti',\n",
       " 'earliest_cr_line',\n",
       " 'emp_length',\n",
       " 'emp_title',\n",
       " 'funded_amnt',\n",
       " 'funded_amnt_inv',\n",
       " 'grade',\n",
       " 'home_ownership',\n",
       " 'id',\n",
       " 'initial_list_status',\n",
       " 'inq_last_6mths',\n",
       " 'installment',\n",
       " 'int_rate',\n",
       " 'issue_d',\n",
       " 'last_credit_pull_d',\n",
       " 'last_pymnt_amnt',\n",
       " 'last_pymnt_d',\n",
       " 'loan_amnt',\n",
       " 'loan_status',\n",
       " 'member_id',\n",
       " 'open_acc',\n",
       " 'out_prncp',\n",
       " 'out_prncp_inv',\n",
       " 'policy_code',\n",
       " 'pub_rec',\n",
       " 'pub_rec_bankruptcies',\n",
       " 'purpose',\n",
       " 'pymnt_plan',\n",
       " 'recoveries',\n",
       " 'revol_bal',\n",
       " 'revol_util',\n",
       " 'sub_grade',\n",
       " 'tax_liens',\n",
       " 'term',\n",
       " 'title',\n",
       " 'total_acc',\n",
       " 'total_pymnt',\n",
       " 'total_pymnt_inv',\n",
       " 'total_rec_int',\n",
       " 'total_rec_late_fee',\n",
       " 'total_rec_prncp',\n",
       " 'url',\n",
       " 'verification_status',\n",
       " 'zip_code'}"
      ]
     },
     "execution_count": 13,
     "metadata": {},
     "output_type": "execute_result"
    }
   ],
   "source": [
    "# Variables in the dataframe after removing huge number of missing values\n",
    "\n",
    "set(loan_df)"
   ]
  },
  {
   "cell_type": "code",
   "execution_count": 14,
   "id": "49d07427",
   "metadata": {},
   "outputs": [
    {
     "data": {
      "text/plain": [
       "6"
      ]
     },
     "execution_count": 14,
     "metadata": {},
     "output_type": "execute_result"
    }
   ],
   "source": [
    "# Maximum number of missing values across the rows of the dataset\n",
    "\n",
    "loan_df.isnull().sum(axis=1).max()"
   ]
  },
  {
   "cell_type": "markdown",
   "id": "0bb314b5",
   "metadata": {},
   "source": [
    "Since the maximum number of missing values across rows is significantly low, \n",
    "there is no need to delete records in basic cleanup."
   ]
  },
  {
   "cell_type": "code",
   "execution_count": 15,
   "id": "6b017138",
   "metadata": {},
   "outputs": [
    {
     "data": {
      "text/plain": [
       "(39717, 54)"
      ]
     },
     "execution_count": 15,
     "metadata": {},
     "output_type": "execute_result"
    }
   ],
   "source": [
    "# Shape of the dataframe after basic cleanup\n",
    "\n",
    "loan_df.shape"
   ]
  },
  {
   "cell_type": "markdown",
   "id": "d038dee0",
   "metadata": {},
   "source": [
    "## Data Cleaning Process\n",
    "1. Fixing rows and columns\n",
    "2. Fixing missing values\n",
    "3. Standardizing values\n",
    "4. Fixing invalid values\n",
    "5. Filtering data"
   ]
  },
  {
   "cell_type": "markdown",
   "id": "d2722908",
   "metadata": {},
   "source": [
    "### 1. Fixing Rows and Columns"
   ]
  },
  {
   "cell_type": "code",
   "execution_count": 16,
   "id": "38d01922",
   "metadata": {},
   "outputs": [],
   "source": [
    "# Drop the column 'desc' as it has no significance in analysis and has 32.58% missing values\n",
    "\n",
    "loan_df = loan_df.drop('desc', axis=1)"
   ]
  },
  {
   "cell_type": "code",
   "execution_count": 17,
   "id": "098e3892",
   "metadata": {},
   "outputs": [],
   "source": [
    "# Drop the column 'url' as it has no significance in analysis\n",
    "\n",
    "loan_df = loan_df.drop('url', axis=1)"
   ]
  },
  {
   "cell_type": "code",
   "execution_count": 18,
   "id": "791e533b",
   "metadata": {},
   "outputs": [
    {
     "data": {
      "text/plain": [
       "id                            [1077501, 1077430, 1077175, 1076863, 1075358, ...\n",
       "member_id                     [1296599, 1314167, 1313524, 1277178, 1311748, ...\n",
       "loan_amnt                     [5000, 2500, 2400, 10000, 3000, 7000, 5600, 53...\n",
       "funded_amnt                   [5000, 2500, 2400, 10000, 3000, 7000, 5600, 53...\n",
       "funded_amnt_inv               [4975, 2500, 2400, 10000, 3000, 5000, 7000, 56...\n",
       "term                                                   [ 36 months,  60 months]\n",
       "int_rate                      [10.65%, 15.27%, 15.96%, 13.49%, 12.69%, 7.90%...\n",
       "installment                   [162.87, 59.83, 84.33, 339.31, 67.79, 156.46, ...\n",
       "grade                                                     [B, C, A, E, F, D, G]\n",
       "sub_grade                     [B2, C4, C5, C1, B5, A4, E1, F2, C3, B1, D1, A...\n",
       "emp_title                     [nan, Ryder, AIR RESOURCES BOARD, University M...\n",
       "emp_length                    [10+ years, < 1 year, 1 year, 3 years, 8 years...\n",
       "home_ownership                               [RENT, OWN, MORTGAGE, OTHER, NONE]\n",
       "annual_inc                    [24000, 30000, 12252, 49200, 80000, 36000, 470...\n",
       "verification_status                   [Verified, Source Verified, Not Verified]\n",
       "issue_d                       [Dec-11, Nov-11, Oct-11, Sep-11, Aug-11, Jul-1...\n",
       "loan_status                                  [Fully Paid, Charged Off, Current]\n",
       "pymnt_plan                                                                  [n]\n",
       "purpose                       [credit_card, car, small_business, other, wedd...\n",
       "title                         [Computer, bike, real estate business, persone...\n",
       "zip_code                      [860xx, 309xx, 606xx, 917xx, 972xx, 852xx, 280...\n",
       "addr_state                    [AZ, GA, IL, CA, OR, NC, TX, VA, MO, CT, UT, F...\n",
       "dti                           [27.65, 1, 8.72, 20, 17.94, 11.2, 23.51, 5.35,...\n",
       "delinq_2yrs                                  [0, 2, 3, 1, 4, 6, 5, 8, 7, 9, 11]\n",
       "earliest_cr_line              [Jan-85, Apr-99, Nov-01, Feb-96, Jan-96, Nov-0...\n",
       "inq_last_6mths                                      [1, 5, 2, 0, 3, 4, 6, 7, 8]\n",
       "open_acc                      [3, 2, 10, 15, 9, 7, 4, 11, 14, 12, 20, 8, 6, ...\n",
       "pub_rec                                                         [0, 1, 2, 3, 4]\n",
       "revol_bal                     [13648, 1687, 2956, 5598, 27783, 7963, 17726, ...\n",
       "revol_util                    [83.70%, 9.40%, 98.50%, 21%, 53.90%, 28.30%, 8...\n",
       "total_acc                     [9, 4, 10, 37, 38, 12, 11, 13, 3, 23, 34, 29, ...\n",
       "initial_list_status                                                         [f]\n",
       "out_prncp                     [0, 524.06, 1849.1, 2181.42, 2637.34, 3125.79,...\n",
       "out_prncp_inv                 [0, 524.06, 1844.43, 2177.03, 2632.59, 3120.68...\n",
       "total_pymnt                   [5863.155187, 1008.71, 3005.666844, 12231.89, ...\n",
       "total_pymnt_inv               [5833.84, 1008.71, 3005.67, 12231.89, 3513.33,...\n",
       "total_rec_prncp               [5000, 456.46, 2400, 10000, 2475.94, 6985.61, ...\n",
       "total_rec_int                 [863.16, 435.17, 605.67, 2214.92, 1037.39, 632...\n",
       "total_rec_late_fee            [0, 16.97, 15.00000003, 24.17, 15, 1, 23.80000...\n",
       "recoveries                    [0, 117.08, 189.06, 269.29, 444.3, 645.1, 269....\n",
       "collection_recovery_fee       [0, 1.11, 2.09, 2.52, 4.16, 6.3145, 2.57, 2.3,...\n",
       "last_pymnt_d                  [Jan-15, Apr-13, Jun-14, May-16, Apr-12, Nov-1...\n",
       "last_pymnt_amnt               [171.62, 119.66, 649.91, 357.48, 67.79, 161.03...\n",
       "last_credit_pull_d            [May-16, Sep-13, Apr-16, Jan-16, Dec-14, Aug-1...\n",
       "collections_12_mths_ex_med                                             [0, nan]\n",
       "policy_code                                                                 [1]\n",
       "application_type                                                   [INDIVIDUAL]\n",
       "acc_now_delinq                                                              [0]\n",
       "chargeoff_within_12_mths                                               [0, nan]\n",
       "delinq_amnt                                                                 [0]\n",
       "pub_rec_bankruptcies                                             [0, 1, 2, nan]\n",
       "tax_liens                                                              [0, nan]\n",
       "dtype: object"
      ]
     },
     "execution_count": 18,
     "metadata": {},
     "output_type": "execute_result"
    }
   ],
   "source": [
    "# Unique values of each columns in the dataframe (to determine the repetitve or same values of columns)\n",
    "\n",
    "loan_df.apply(lambda x : x.unique())"
   ]
  },
  {
   "cell_type": "code",
   "execution_count": 19,
   "id": "b161dbb1",
   "metadata": {},
   "outputs": [],
   "source": [
    "'''\n",
    "The columns ['pymnt_plan','initial_list_status', 'policy_code', 'application_type', 'acc_now_delinq', 'delinq_amnt'] \n",
    "has same values for all rows. \n",
    "The columns ['collections_12_mths_ex_med', 'chargeoff_within_12_mths', 'tax_liens'] contains\n",
    "only '0' and 'nan' as values. Hence drop the columns that are insignificant in analysis.\n",
    "'''\n",
    "\n",
    "loan_df = loan_df.drop(['pymnt_plan', 'initial_list_status', 'collections_12_mths_ex_med', 'policy_code','application_type',\n",
    "                        'acc_now_delinq', 'chargeoff_within_12_mths', 'delinq_amnt', 'tax_liens'],axis=1)"
   ]
  },
  {
   "cell_type": "code",
   "execution_count": 20,
   "id": "f699ac05",
   "metadata": {},
   "outputs": [
    {
     "data": {
      "text/plain": [
       "{'addr_state',\n",
       " 'annual_inc',\n",
       " 'collection_recovery_fee',\n",
       " 'delinq_2yrs',\n",
       " 'dti',\n",
       " 'earliest_cr_line',\n",
       " 'emp_length',\n",
       " 'emp_title',\n",
       " 'funded_amnt',\n",
       " 'funded_amnt_inv',\n",
       " 'grade',\n",
       " 'home_ownership',\n",
       " 'id',\n",
       " 'inq_last_6mths',\n",
       " 'installment',\n",
       " 'int_rate',\n",
       " 'issue_d',\n",
       " 'last_credit_pull_d',\n",
       " 'last_pymnt_amnt',\n",
       " 'last_pymnt_d',\n",
       " 'loan_amnt',\n",
       " 'loan_status',\n",
       " 'member_id',\n",
       " 'open_acc',\n",
       " 'out_prncp',\n",
       " 'out_prncp_inv',\n",
       " 'pub_rec',\n",
       " 'pub_rec_bankruptcies',\n",
       " 'purpose',\n",
       " 'recoveries',\n",
       " 'revol_bal',\n",
       " 'revol_util',\n",
       " 'sub_grade',\n",
       " 'term',\n",
       " 'title',\n",
       " 'total_acc',\n",
       " 'total_pymnt',\n",
       " 'total_pymnt_inv',\n",
       " 'total_rec_int',\n",
       " 'total_rec_late_fee',\n",
       " 'total_rec_prncp',\n",
       " 'verification_status',\n",
       " 'zip_code'}"
      ]
     },
     "execution_count": 20,
     "metadata": {},
     "output_type": "execute_result"
    }
   ],
   "source": [
    "# Set of variables after deleting insignificant columns\n",
    "\n",
    "set(loan_df)"
   ]
  },
  {
   "cell_type": "code",
   "execution_count": 21,
   "id": "e2b1f942",
   "metadata": {},
   "outputs": [
    {
     "data": {
      "text/plain": [
       "(39717, 43)"
      ]
     },
     "execution_count": 21,
     "metadata": {},
     "output_type": "execute_result"
    }
   ],
   "source": [
    "# Shape of the dataframe after deleting insignificant columns\n",
    "\n",
    "loan_df.shape"
   ]
  },
  {
   "cell_type": "markdown",
   "id": "e71c24dc",
   "metadata": {},
   "source": [
    "### 2. Fixing Missing values\n"
   ]
  },
  {
   "cell_type": "code",
   "execution_count": 22,
   "id": "1566c30b",
   "metadata": {},
   "outputs": [
    {
     "data": {
      "text/plain": [
       "id                            0\n",
       "member_id                     0\n",
       "loan_amnt                     0\n",
       "funded_amnt                   0\n",
       "funded_amnt_inv               0\n",
       "term                          0\n",
       "int_rate                      0\n",
       "installment                   0\n",
       "grade                         0\n",
       "sub_grade                     0\n",
       "emp_title                  2459\n",
       "emp_length                 1075\n",
       "home_ownership                0\n",
       "annual_inc                    0\n",
       "verification_status           0\n",
       "issue_d                       0\n",
       "loan_status                   0\n",
       "purpose                       0\n",
       "title                        11\n",
       "zip_code                      0\n",
       "addr_state                    0\n",
       "dti                           0\n",
       "delinq_2yrs                   0\n",
       "earliest_cr_line              0\n",
       "inq_last_6mths                0\n",
       "open_acc                      0\n",
       "pub_rec                       0\n",
       "revol_bal                     0\n",
       "revol_util                   50\n",
       "total_acc                     0\n",
       "out_prncp                     0\n",
       "out_prncp_inv                 0\n",
       "total_pymnt                   0\n",
       "total_pymnt_inv               0\n",
       "total_rec_prncp               0\n",
       "total_rec_int                 0\n",
       "total_rec_late_fee            0\n",
       "recoveries                    0\n",
       "collection_recovery_fee       0\n",
       "last_pymnt_d                 71\n",
       "last_pymnt_amnt               0\n",
       "last_credit_pull_d            2\n",
       "pub_rec_bankruptcies        697\n",
       "dtype: int64"
      ]
     },
     "execution_count": 22,
     "metadata": {},
     "output_type": "execute_result"
    }
   ],
   "source": [
    "# Number of missing values in each column\n",
    "\n",
    "loan_df.isnull().sum()"
   ]
  },
  {
   "cell_type": "code",
   "execution_count": 23,
   "id": "9b7806a2",
   "metadata": {},
   "outputs": [
    {
     "data": {
      "text/plain": [
       "0    37339\n",
       "1     1674\n",
       "2        7\n",
       "Name: pub_rec_bankruptcies, dtype: int64"
      ]
     },
     "execution_count": 23,
     "metadata": {},
     "output_type": "execute_result"
    }
   ],
   "source": [
    "# Frequency of unique values in 'pub_rec_bankruptcies'\n",
    "\n",
    "loan_df['pub_rec_bankruptcies'].value_counts()"
   ]
  },
  {
   "cell_type": "code",
   "execution_count": 24,
   "id": "3fdfedad",
   "metadata": {},
   "outputs": [
    {
     "data": {
      "text/plain": [
       "0%        977\n",
       "0.20%      63\n",
       "63%        62\n",
       "40.70%     58\n",
       "66.70%     58\n",
       "         ... \n",
       "25.74%      1\n",
       "47.36%      1\n",
       "24.65%      1\n",
       "10.61%      1\n",
       "7.28%       1\n",
       "Name: revol_util, Length: 1089, dtype: int64"
      ]
     },
     "execution_count": 24,
     "metadata": {},
     "output_type": "execute_result"
    }
   ],
   "source": [
    "# Frequency of unique values in 'revol_util'\n",
    "\n",
    "loan_df['revol_util'].value_counts()"
   ]
  },
  {
   "cell_type": "code",
   "execution_count": 25,
   "id": "601521c5",
   "metadata": {},
   "outputs": [],
   "source": [
    "'''\n",
    "DROPPING MISSING VALUES\n",
    "\n",
    "The columns 'emp_title','emp_length' and 'pub_rec_bankruptcies' are significant for analysis but they possess comparatively\n",
    "more missing values. We cannot impute 'emp_title' and 'emp_length' by assumptions as it may lead to chaos. So drop the rows\n",
    "that has missing values of 'emp_title' and 'emp_length'.\n",
    "\n",
    "\n",
    "IMPUTING MISSING VALUES\n",
    "\n",
    "The column 'pub_rec_bankruptcies' contains 697 missing values and about 94% records contains '0' as the value. So let us \n",
    "impute the missing values in 'pub_rec_bankruptcies' with '0'. The column 'revol_util' contains 50 missing values and about\n",
    "% record contains \"0.00%\" as value. So let us impute the missing values in 'revol_util' with \"0.00%\".\n",
    "\n",
    "\n",
    "TREATING AS MISSING VALUES\n",
    "\n",
    "The columns 'title','last_payment_d','last_credit_pull_d' have comparatively small number of missing values\n",
    "and they cannot be imputed by assumptions. So let us treat them as missing values itself and fill them with \"NAN\" or \"NaT\"\n",
    "\n",
    "'''\n",
    "remove_null_values = ['emp_length','emp_title']"
   ]
  },
  {
   "cell_type": "code",
   "execution_count": 26,
   "id": "f9035693",
   "metadata": {},
   "outputs": [],
   "source": [
    "# Dropping rows that contains missing values of 'emp_length','emp_title'\n",
    "\n",
    "for column in remove_null_values:\n",
    "    loan_df = loan_df[~loan_df[column].isnull()]"
   ]
  },
  {
   "cell_type": "code",
   "execution_count": 27,
   "id": "fdd93bcf",
   "metadata": {},
   "outputs": [],
   "source": [
    "# Impute the missing values of 'pub_rec_bankruptcies' with 0\n",
    "\n",
    "loan_df['pub_rec_bankruptcies'] = loan_df['pub_rec_bankruptcies'].fillna(0)"
   ]
  },
  {
   "cell_type": "code",
   "execution_count": 28,
   "id": "18f4d93b",
   "metadata": {},
   "outputs": [],
   "source": [
    "# Impute the missing values of 'revol_util' with \"0.00%\"\n",
    "\n",
    "loan_df['revol_util'] = loan_df['revol_util'].fillna(\"0.00%\")\n"
   ]
  },
  {
   "cell_type": "code",
   "execution_count": 29,
   "id": "8c7dbc9e",
   "metadata": {},
   "outputs": [],
   "source": [
    "# Populate the missing values of 'title' with \"NAN\"\n",
    "\n",
    "loan_df['title'] = loan_df['title'].fillna(\"NAN\")"
   ]
  },
  {
   "cell_type": "code",
   "execution_count": 30,
   "id": "2c98b0ba",
   "metadata": {},
   "outputs": [],
   "source": [
    "# Populate the missing values of 'last_pymnt_d' with \"NaT\"\n",
    "\n",
    "loan_df['last_pymnt_d'] = loan_df['last_pymnt_d'].fillna(\"NaT\")"
   ]
  },
  {
   "cell_type": "code",
   "execution_count": 31,
   "id": "0d0aa161",
   "metadata": {},
   "outputs": [],
   "source": [
    "# Populate the missing values of 'last_credit_pull_d' with \"NaT\"\n",
    "\n",
    "loan_df['last_credit_pull_d'] = loan_df['last_credit_pull_d'].fillna(\"NaT\")"
   ]
  },
  {
   "cell_type": "code",
   "execution_count": 32,
   "id": "453e5882",
   "metadata": {},
   "outputs": [
    {
     "data": {
      "text/plain": [
       "0"
      ]
     },
     "execution_count": 32,
     "metadata": {},
     "output_type": "execute_result"
    }
   ],
   "source": [
    "# Sum of missing values of all columns\n",
    "\n",
    "loan_df.isnull().sum().sum()"
   ]
  },
  {
   "cell_type": "code",
   "execution_count": 33,
   "id": "19505b18",
   "metadata": {},
   "outputs": [
    {
     "data": {
      "text/plain": [
       "(37202, 43)"
      ]
     },
     "execution_count": 33,
     "metadata": {},
     "output_type": "execute_result"
    }
   ],
   "source": [
    "# Shape of the dataframe after treating missing values\n",
    "\n",
    "loan_df.shape"
   ]
  },
  {
   "cell_type": "markdown",
   "id": "4cd932d8",
   "metadata": {},
   "source": [
    "### 3. Standardizing values"
   ]
  },
  {
   "cell_type": "code",
   "execution_count": 34,
   "id": "01ab30a0",
   "metadata": {},
   "outputs": [
    {
     "name": "stdout",
     "output_type": "stream",
     "text": [
      "<class 'pandas.core.frame.DataFrame'>\n",
      "Int64Index: 37202 entries, 1 to 39716\n",
      "Data columns (total 43 columns):\n",
      " #   Column                   Non-Null Count  Dtype \n",
      "---  ------                   --------------  ----- \n",
      " 0   id                       37202 non-null  object\n",
      " 1   member_id                37202 non-null  object\n",
      " 2   loan_amnt                37202 non-null  object\n",
      " 3   funded_amnt              37202 non-null  object\n",
      " 4   funded_amnt_inv          37202 non-null  object\n",
      " 5   term                     37202 non-null  object\n",
      " 6   int_rate                 37202 non-null  object\n",
      " 7   installment              37202 non-null  object\n",
      " 8   grade                    37202 non-null  object\n",
      " 9   sub_grade                37202 non-null  object\n",
      " 10  emp_title                37202 non-null  object\n",
      " 11  emp_length               37202 non-null  object\n",
      " 12  home_ownership           37202 non-null  object\n",
      " 13  annual_inc               37202 non-null  object\n",
      " 14  verification_status      37202 non-null  object\n",
      " 15  issue_d                  37202 non-null  object\n",
      " 16  loan_status              37202 non-null  object\n",
      " 17  purpose                  37202 non-null  object\n",
      " 18  title                    37202 non-null  object\n",
      " 19  zip_code                 37202 non-null  object\n",
      " 20  addr_state               37202 non-null  object\n",
      " 21  dti                      37202 non-null  object\n",
      " 22  delinq_2yrs              37202 non-null  object\n",
      " 23  earliest_cr_line         37202 non-null  object\n",
      " 24  inq_last_6mths           37202 non-null  object\n",
      " 25  open_acc                 37202 non-null  object\n",
      " 26  pub_rec                  37202 non-null  object\n",
      " 27  revol_bal                37202 non-null  object\n",
      " 28  revol_util               37202 non-null  object\n",
      " 29  total_acc                37202 non-null  object\n",
      " 30  out_prncp                37202 non-null  object\n",
      " 31  out_prncp_inv            37202 non-null  object\n",
      " 32  total_pymnt              37202 non-null  object\n",
      " 33  total_pymnt_inv          37202 non-null  object\n",
      " 34  total_rec_prncp          37202 non-null  object\n",
      " 35  total_rec_int            37202 non-null  object\n",
      " 36  total_rec_late_fee       37202 non-null  object\n",
      " 37  recoveries               37202 non-null  object\n",
      " 38  collection_recovery_fee  37202 non-null  object\n",
      " 39  last_pymnt_d             37202 non-null  object\n",
      " 40  last_pymnt_amnt          37202 non-null  object\n",
      " 41  last_credit_pull_d       37202 non-null  object\n",
      " 42  pub_rec_bankruptcies     37202 non-null  object\n",
      "dtypes: object(43)\n",
      "memory usage: 12.5+ MB\n"
     ]
    }
   ],
   "source": [
    "# Information about the dataframe loan_df\n",
    "\n",
    "loan_df.info()"
   ]
  },
  {
   "cell_type": "code",
   "execution_count": 35,
   "id": "2646da8d",
   "metadata": {},
   "outputs": [],
   "source": [
    "# Columns that has to be converted to \"numeric\" (int or float) type\n",
    "\n",
    "conv_obj_to_numeric = ['loan_amnt','funded_amnt','funded_amnt_inv','installment','annual_inc','dti','revol_bal','out_prncp',\n",
    "                       'out_prncp_inv','total_pymnt','total_pymnt_inv','total_rec_int','total_rec_prncp',\n",
    "                       'total_rec_late_fee','collection_recovery_fee','recoveries','last_pymnt_amnt','pub_rec_bankruptcies',\n",
    "                       'delinq_2yrs','inq_last_6mths','open_acc','pub_rec']"
   ]
  },
  {
   "cell_type": "code",
   "execution_count": 36,
   "id": "d9937bcf",
   "metadata": {},
   "outputs": [],
   "source": [
    "# Convert the desired columns to \"numeric\" (int or float)\n",
    "\n",
    "loan_df[conv_obj_to_numeric] = loan_df[conv_obj_to_numeric].apply(pd.to_numeric)"
   ]
  },
  {
   "cell_type": "code",
   "execution_count": 37,
   "id": "b689bcd7",
   "metadata": {},
   "outputs": [],
   "source": [
    "# Pick up the columns of 'float' type to round off them to 2 decimal places (standardizing)\n",
    "\n",
    "roundOff_float_cols = ['funded_amnt_inv','installment','annual_inc','dti','out_prncp','out_prncp_inv','total_pymnt',\n",
    "                       'total_pymnt_inv','total_rec_prncp','total_rec_int','total_rec_late_fee','recoveries',\n",
    "                       'collection_recovery_fee','last_pymnt_amnt']"
   ]
  },
  {
   "cell_type": "code",
   "execution_count": 38,
   "id": "eebea0c1",
   "metadata": {},
   "outputs": [],
   "source": [
    "# Round off float values to 2 decimal places\n",
    "\n",
    "loan_df[roundOff_float_cols] = loan_df[roundOff_float_cols].round(2)"
   ]
  },
  {
   "cell_type": "code",
   "execution_count": 39,
   "id": "7b5449ff",
   "metadata": {},
   "outputs": [
    {
     "name": "stdout",
     "output_type": "stream",
     "text": [
      "<class 'pandas.core.frame.DataFrame'>\n",
      "Int64Index: 37202 entries, 1 to 39716\n",
      "Data columns (total 43 columns):\n",
      " #   Column                   Non-Null Count  Dtype  \n",
      "---  ------                   --------------  -----  \n",
      " 0   id                       37202 non-null  object \n",
      " 1   member_id                37202 non-null  object \n",
      " 2   loan_amnt                37202 non-null  int64  \n",
      " 3   funded_amnt              37202 non-null  int64  \n",
      " 4   funded_amnt_inv          37202 non-null  float64\n",
      " 5   term                     37202 non-null  object \n",
      " 6   int_rate                 37202 non-null  object \n",
      " 7   installment              37202 non-null  float64\n",
      " 8   grade                    37202 non-null  object \n",
      " 9   sub_grade                37202 non-null  object \n",
      " 10  emp_title                37202 non-null  object \n",
      " 11  emp_length               37202 non-null  object \n",
      " 12  home_ownership           37202 non-null  object \n",
      " 13  annual_inc               37202 non-null  float64\n",
      " 14  verification_status      37202 non-null  object \n",
      " 15  issue_d                  37202 non-null  object \n",
      " 16  loan_status              37202 non-null  object \n",
      " 17  purpose                  37202 non-null  object \n",
      " 18  title                    37202 non-null  object \n",
      " 19  zip_code                 37202 non-null  object \n",
      " 20  addr_state               37202 non-null  object \n",
      " 21  dti                      37202 non-null  float64\n",
      " 22  delinq_2yrs              37202 non-null  int64  \n",
      " 23  earliest_cr_line         37202 non-null  object \n",
      " 24  inq_last_6mths           37202 non-null  int64  \n",
      " 25  open_acc                 37202 non-null  int64  \n",
      " 26  pub_rec                  37202 non-null  int64  \n",
      " 27  revol_bal                37202 non-null  int64  \n",
      " 28  revol_util               37202 non-null  object \n",
      " 29  total_acc                37202 non-null  object \n",
      " 30  out_prncp                37202 non-null  float64\n",
      " 31  out_prncp_inv            37202 non-null  float64\n",
      " 32  total_pymnt              37202 non-null  float64\n",
      " 33  total_pymnt_inv          37202 non-null  float64\n",
      " 34  total_rec_prncp          37202 non-null  float64\n",
      " 35  total_rec_int            37202 non-null  float64\n",
      " 36  total_rec_late_fee       37202 non-null  float64\n",
      " 37  recoveries               37202 non-null  float64\n",
      " 38  collection_recovery_fee  37202 non-null  float64\n",
      " 39  last_pymnt_d             37202 non-null  object \n",
      " 40  last_pymnt_amnt          37202 non-null  float64\n",
      " 41  last_credit_pull_d       37202 non-null  object \n",
      " 42  pub_rec_bankruptcies     37202 non-null  int64  \n",
      "dtypes: float64(14), int64(8), object(21)\n",
      "memory usage: 12.5+ MB\n"
     ]
    }
   ],
   "source": [
    "# Information of the dataframe after changing desired columns to numeric type\n",
    "\n",
    "loan_df.info()"
   ]
  },
  {
   "cell_type": "markdown",
   "id": "77d37f5d",
   "metadata": {},
   "source": [
    "### 4. Fixing invalid values\n"
   ]
  },
  {
   "cell_type": "code",
   "execution_count": 40,
   "id": "2c4bc953",
   "metadata": {},
   "outputs": [
    {
     "data": {
      "text/plain": [
       "id                         [1077430, 1076863, 1075358, 1075269, 1069639, ...\n",
       "member_id                  [1314167, 1277178, 1311748, 1311441, 1304742, ...\n",
       "loan_amnt                  [2500, 10000, 3000, 5000, 7000, 5375, 6500, 12...\n",
       "funded_amnt                [2500, 10000, 3000, 5000, 7000, 5375, 6500, 12...\n",
       "funded_amnt_inv            [2500.0, 10000.0, 3000.0, 5000.0, 7000.0, 5350...\n",
       "term                                                [ 60 months,  36 months]\n",
       "int_rate                   [15.27%, 13.49%, 12.69%, 7.90%, 15.96%, 18.64%...\n",
       "installment                [59.83, 339.31, 67.79, 156.46, 170.08, 109.43,...\n",
       "grade                                                  [C, B, A, E, D, F, G]\n",
       "sub_grade                  [C4, C1, B5, A4, C5, E1, C3, B1, B2, D1, A1, B...\n",
       "emp_title                  [Ryder, AIR RESOURCES BOARD, University Medica...\n",
       "emp_length                 [< 1 year, 10+ years, 1 year, 3 years, 8 years...\n",
       "home_ownership                            [RENT, OWN, MORTGAGE, OTHER, NONE]\n",
       "annual_inc                 [30000.0, 49200.0, 80000.0, 36000.0, 47004.0, ...\n",
       "verification_status                [Source Verified, Not Verified, Verified]\n",
       "issue_d                    [Dec-11, Nov-11, Oct-11, Sep-11, Aug-11, Jul-1...\n",
       "loan_status                               [Charged Off, Fully Paid, Current]\n",
       "purpose                    [car, other, wedding, debt_consolidation, cred...\n",
       "title                      [bike, personel, Personal, My wedding loan I p...\n",
       "zip_code                   [309xx, 917xx, 972xx, 852xx, 280xx, 900xx, 774...\n",
       "addr_state                 [GA, CA, OR, AZ, NC, TX, VA, IL, MO, CT, UT, F...\n",
       "dti                        [1.0, 20.0, 17.94, 11.2, 23.51, 5.35, 18.08, 1...\n",
       "delinq_2yrs                               [0, 2, 3, 1, 4, 6, 5, 8, 7, 9, 11]\n",
       "earliest_cr_line           [Apr-99, Feb-96, Jan-96, Nov-04, Jul-05, Jan-0...\n",
       "inq_last_6mths                                   [5, 1, 0, 3, 2, 4, 6, 7, 8]\n",
       "open_acc                   [3, 10, 15, 9, 7, 4, 2, 14, 12, 11, 20, 8, 6, ...\n",
       "pub_rec                                                      [0, 1, 2, 3, 4]\n",
       "revol_bal                  [1687, 5598, 27783, 7963, 17726, 8221, 9279, 4...\n",
       "revol_util                 [9.40%, 21%, 53.90%, 28.30%, 85.60%, 87.50%, 3...\n",
       "total_acc                  [4, 37, 38, 12, 11, 3, 23, 34, 9, 29, 28, 42, ...\n",
       "out_prncp                  [0.0, 524.06, 1849.1, 2181.42, 2637.34, 3125.7...\n",
       "out_prncp_inv              [0.0, 524.06, 1844.43, 2177.03, 2632.59, 3120....\n",
       "total_pymnt                [1008.71, 12231.89, 3513.33, 5632.21, 10110.84...\n",
       "total_pymnt_inv            [1008.71, 12231.89, 3513.33, 5632.21, 10110.84...\n",
       "total_rec_prncp            [456.46, 10000.0, 2475.94, 5000.0, 6985.61, 30...\n",
       "total_rec_int              [435.17, 2214.92, 1037.39, 632.21, 3125.23, 93...\n",
       "total_rec_late_fee         [0.0, 16.97, 15.0, 24.17, 1.0, 23.8, 30.0, 36....\n",
       "recoveries                 [117.08, 0.0, 269.29, 444.3, 645.1, 269.31, 26...\n",
       "collection_recovery_fee    [1.11, 0.0, 2.52, 4.16, 6.31, 2.57, 2.3, 1.07,...\n",
       "last_pymnt_d               [Apr-13, Jan-15, May-16, Nov-12, Jun-13, Sep-1...\n",
       "last_pymnt_amnt            [119.66, 357.48, 67.79, 161.03, 1313.76, 111.3...\n",
       "last_credit_pull_d         [Sep-13, Apr-16, May-16, Jan-16, Dec-14, Mar-1...\n",
       "pub_rec_bankruptcies                                               [0, 1, 2]\n",
       "dtype: object"
      ]
     },
     "execution_count": 40,
     "metadata": {},
     "output_type": "execute_result"
    }
   ],
   "source": [
    "# Unique values of each columns in the dataframe\n",
    "\n",
    "loan_df.apply(lambda x : x.unique())"
   ]
  },
  {
   "cell_type": "code",
   "execution_count": 41,
   "id": "1e6e646b",
   "metadata": {},
   "outputs": [],
   "source": [
    "# Remove the % in 'int_rate' and convert to float type thereby rounding off to 2 decimal places\n",
    "\n",
    "loan_df['int_rate'] = loan_df['int_rate'].apply(lambda x : round(float(x[:-1]),2))"
   ]
  },
  {
   "cell_type": "code",
   "execution_count": 42,
   "id": "7303e5e6",
   "metadata": {},
   "outputs": [],
   "source": [
    "# Remove the % in 'revol_util' and convert to float type thereby rounding off to 2 decimal places\n",
    "\n",
    "loan_df['revol_util'] = loan_df['revol_util'].apply(lambda x : round(float(x[:-1]),2))"
   ]
  },
  {
   "cell_type": "code",
   "execution_count": 43,
   "id": "0c79db34",
   "metadata": {},
   "outputs": [],
   "source": [
    "# Function to convert the string(MON-YY) to valid date format(YYYY-MM-DD)\n",
    "\n",
    "def to_valid_date_format(x):\n",
    "    if(x == \"NaT\"):\n",
    "        return pd.to_datetime(x)\n",
    "    else:\n",
    "        if (int(x[-2:]) in range(0,12)):\n",
    "            year = \"20\"+x[-2:]\n",
    "        else:\n",
    "            year = \"19\"+x[-2:]\n",
    "        day = \"01\"\n",
    "        month = x[:3]\n",
    "        month_dict = {\"Jan\" : \"01\",\"Feb\" : \"02\",\"Mar\" : \"03\",\"Apr\" : \"04\",\"May\" : \"05\",\"Jun\" : \"06\",\n",
    "                      \"Jul\" : \"07\",\"Aug\" : \"08\",\"Sep\" : \"09\",\"Oct\" : \"10\",\"Nov\" : \"11\",\"Dec\" : \"12\"}\n",
    "        for key,value in month_dict.items():\n",
    "            if(month == key):\n",
    "                month_in_numbers = value\n",
    "                break\n",
    "        valid_date_format = pd.to_datetime(year+\"/\"+month_in_numbers+\"/\"+day, format=\"%Y-%m-%d\")\n",
    "        return valid_date_format"
   ]
  },
  {
   "cell_type": "code",
   "execution_count": 44,
   "id": "2a4ace69",
   "metadata": {},
   "outputs": [],
   "source": [
    "# Columns that has to be converted to 'datetime' type\n",
    "\n",
    "date_columns = ['issue_d','earliest_cr_line','last_pymnt_d','last_credit_pull_d']"
   ]
  },
  {
   "cell_type": "code",
   "execution_count": 45,
   "id": "8a2f99fe",
   "metadata": {},
   "outputs": [],
   "source": [
    "# Convert the desired columns to valid date format of 'datetime' type\n",
    "\n",
    "for column in date_columns:\n",
    "    loan_df[column] = loan_df[column].apply(lambda x : to_valid_date_format(x))"
   ]
  },
  {
   "cell_type": "code",
   "execution_count": 46,
   "id": "938a5083",
   "metadata": {},
   "outputs": [],
   "source": [
    "# Creating a derived column 'issue_d_years' which is derived from 'issue_d'\n",
    "# Deriving the year from loan issue date\n",
    "\n",
    "loan_df['issue_d_years'] = loan_df['issue_d'].dt.year "
   ]
  },
  {
   "cell_type": "code",
   "execution_count": 47,
   "id": "111f4e0b",
   "metadata": {},
   "outputs": [],
   "source": [
    "# Creating a derived column 'issue_d_months' which is derived from 'issue_d'\n",
    "# Deriving the month from loan issue date\n",
    "\n",
    "loan_df['issue_d_months'] = loan_df['issue_d'].dt.month "
   ]
  },
  {
   "cell_type": "code",
   "execution_count": 48,
   "id": "a16fac14",
   "metadata": {},
   "outputs": [
    {
     "name": "stdout",
     "output_type": "stream",
     "text": [
      "<class 'pandas.core.frame.DataFrame'>\n",
      "Int64Index: 37202 entries, 1 to 39716\n",
      "Data columns (total 45 columns):\n",
      " #   Column                   Non-Null Count  Dtype         \n",
      "---  ------                   --------------  -----         \n",
      " 0   id                       37202 non-null  object        \n",
      " 1   member_id                37202 non-null  object        \n",
      " 2   loan_amnt                37202 non-null  int64         \n",
      " 3   funded_amnt              37202 non-null  int64         \n",
      " 4   funded_amnt_inv          37202 non-null  float64       \n",
      " 5   term                     37202 non-null  object        \n",
      " 6   int_rate                 37202 non-null  float64       \n",
      " 7   installment              37202 non-null  float64       \n",
      " 8   grade                    37202 non-null  object        \n",
      " 9   sub_grade                37202 non-null  object        \n",
      " 10  emp_title                37202 non-null  object        \n",
      " 11  emp_length               37202 non-null  object        \n",
      " 12  home_ownership           37202 non-null  object        \n",
      " 13  annual_inc               37202 non-null  float64       \n",
      " 14  verification_status      37202 non-null  object        \n",
      " 15  issue_d                  37202 non-null  datetime64[ns]\n",
      " 16  loan_status              37202 non-null  object        \n",
      " 17  purpose                  37202 non-null  object        \n",
      " 18  title                    37202 non-null  object        \n",
      " 19  zip_code                 37202 non-null  object        \n",
      " 20  addr_state               37202 non-null  object        \n",
      " 21  dti                      37202 non-null  float64       \n",
      " 22  delinq_2yrs              37202 non-null  int64         \n",
      " 23  earliest_cr_line         37202 non-null  datetime64[ns]\n",
      " 24  inq_last_6mths           37202 non-null  int64         \n",
      " 25  open_acc                 37202 non-null  int64         \n",
      " 26  pub_rec                  37202 non-null  int64         \n",
      " 27  revol_bal                37202 non-null  int64         \n",
      " 28  revol_util               37202 non-null  float64       \n",
      " 29  total_acc                37202 non-null  object        \n",
      " 30  out_prncp                37202 non-null  float64       \n",
      " 31  out_prncp_inv            37202 non-null  float64       \n",
      " 32  total_pymnt              37202 non-null  float64       \n",
      " 33  total_pymnt_inv          37202 non-null  float64       \n",
      " 34  total_rec_prncp          37202 non-null  float64       \n",
      " 35  total_rec_int            37202 non-null  float64       \n",
      " 36  total_rec_late_fee       37202 non-null  float64       \n",
      " 37  recoveries               37202 non-null  float64       \n",
      " 38  collection_recovery_fee  37202 non-null  float64       \n",
      " 39  last_pymnt_d             37138 non-null  datetime64[ns]\n",
      " 40  last_pymnt_amnt          37202 non-null  float64       \n",
      " 41  last_credit_pull_d       37202 non-null  datetime64[ns]\n",
      " 42  pub_rec_bankruptcies     37202 non-null  int64         \n",
      " 43  issue_d_years            37202 non-null  int64         \n",
      " 44  issue_d_months           37202 non-null  int64         \n",
      "dtypes: datetime64[ns](4), float64(16), int64(10), object(15)\n",
      "memory usage: 13.1+ MB\n"
     ]
    }
   ],
   "source": [
    "# Information about the dataframe after changing the datatypes of columns to valid format\n",
    "\n",
    "loan_df.info()"
   ]
  },
  {
   "cell_type": "code",
   "execution_count": 50,
   "id": "bf439ef7",
   "metadata": {},
   "outputs": [
    {
     "data": {
      "text/html": [
       "<div>\n",
       "<style scoped>\n",
       "    .dataframe tbody tr th:only-of-type {\n",
       "        vertical-align: middle;\n",
       "    }\n",
       "\n",
       "    .dataframe tbody tr th {\n",
       "        vertical-align: top;\n",
       "    }\n",
       "\n",
       "    .dataframe thead th {\n",
       "        text-align: right;\n",
       "    }\n",
       "</style>\n",
       "<table border=\"1\" class=\"dataframe\">\n",
       "  <thead>\n",
       "    <tr style=\"text-align: right;\">\n",
       "      <th></th>\n",
       "      <th>id</th>\n",
       "      <th>member_id</th>\n",
       "      <th>loan_amnt</th>\n",
       "      <th>funded_amnt</th>\n",
       "      <th>funded_amnt_inv</th>\n",
       "      <th>term</th>\n",
       "      <th>int_rate</th>\n",
       "      <th>installment</th>\n",
       "      <th>grade</th>\n",
       "      <th>sub_grade</th>\n",
       "      <th>...</th>\n",
       "      <th>total_rec_int</th>\n",
       "      <th>total_rec_late_fee</th>\n",
       "      <th>recoveries</th>\n",
       "      <th>collection_recovery_fee</th>\n",
       "      <th>last_pymnt_d</th>\n",
       "      <th>last_pymnt_amnt</th>\n",
       "      <th>last_credit_pull_d</th>\n",
       "      <th>pub_rec_bankruptcies</th>\n",
       "      <th>issue_d_years</th>\n",
       "      <th>issue_d_months</th>\n",
       "    </tr>\n",
       "  </thead>\n",
       "  <tbody>\n",
       "    <tr>\n",
       "      <th>1</th>\n",
       "      <td>1077430</td>\n",
       "      <td>1314167</td>\n",
       "      <td>2500</td>\n",
       "      <td>2500</td>\n",
       "      <td>2500.0</td>\n",
       "      <td>60 months</td>\n",
       "      <td>15.27</td>\n",
       "      <td>59.83</td>\n",
       "      <td>C</td>\n",
       "      <td>C4</td>\n",
       "      <td>...</td>\n",
       "      <td>435.17</td>\n",
       "      <td>0.00</td>\n",
       "      <td>117.08</td>\n",
       "      <td>1.11</td>\n",
       "      <td>1913-04-01</td>\n",
       "      <td>119.66</td>\n",
       "      <td>1913-09-01</td>\n",
       "      <td>0</td>\n",
       "      <td>2011</td>\n",
       "      <td>12</td>\n",
       "    </tr>\n",
       "    <tr>\n",
       "      <th>3</th>\n",
       "      <td>1076863</td>\n",
       "      <td>1277178</td>\n",
       "      <td>10000</td>\n",
       "      <td>10000</td>\n",
       "      <td>10000.0</td>\n",
       "      <td>36 months</td>\n",
       "      <td>13.49</td>\n",
       "      <td>339.31</td>\n",
       "      <td>C</td>\n",
       "      <td>C1</td>\n",
       "      <td>...</td>\n",
       "      <td>2214.92</td>\n",
       "      <td>16.97</td>\n",
       "      <td>0.00</td>\n",
       "      <td>0.00</td>\n",
       "      <td>1915-01-01</td>\n",
       "      <td>357.48</td>\n",
       "      <td>1916-04-01</td>\n",
       "      <td>0</td>\n",
       "      <td>2011</td>\n",
       "      <td>12</td>\n",
       "    </tr>\n",
       "    <tr>\n",
       "      <th>4</th>\n",
       "      <td>1075358</td>\n",
       "      <td>1311748</td>\n",
       "      <td>3000</td>\n",
       "      <td>3000</td>\n",
       "      <td>3000.0</td>\n",
       "      <td>60 months</td>\n",
       "      <td>12.69</td>\n",
       "      <td>67.79</td>\n",
       "      <td>B</td>\n",
       "      <td>B5</td>\n",
       "      <td>...</td>\n",
       "      <td>1037.39</td>\n",
       "      <td>0.00</td>\n",
       "      <td>0.00</td>\n",
       "      <td>0.00</td>\n",
       "      <td>1916-05-01</td>\n",
       "      <td>67.79</td>\n",
       "      <td>1916-05-01</td>\n",
       "      <td>0</td>\n",
       "      <td>2011</td>\n",
       "      <td>12</td>\n",
       "    </tr>\n",
       "    <tr>\n",
       "      <th>5</th>\n",
       "      <td>1075269</td>\n",
       "      <td>1311441</td>\n",
       "      <td>5000</td>\n",
       "      <td>5000</td>\n",
       "      <td>5000.0</td>\n",
       "      <td>36 months</td>\n",
       "      <td>7.90</td>\n",
       "      <td>156.46</td>\n",
       "      <td>A</td>\n",
       "      <td>A4</td>\n",
       "      <td>...</td>\n",
       "      <td>632.21</td>\n",
       "      <td>0.00</td>\n",
       "      <td>0.00</td>\n",
       "      <td>0.00</td>\n",
       "      <td>1915-01-01</td>\n",
       "      <td>161.03</td>\n",
       "      <td>1916-01-01</td>\n",
       "      <td>0</td>\n",
       "      <td>2011</td>\n",
       "      <td>12</td>\n",
       "    </tr>\n",
       "    <tr>\n",
       "      <th>6</th>\n",
       "      <td>1069639</td>\n",
       "      <td>1304742</td>\n",
       "      <td>7000</td>\n",
       "      <td>7000</td>\n",
       "      <td>7000.0</td>\n",
       "      <td>60 months</td>\n",
       "      <td>15.96</td>\n",
       "      <td>170.08</td>\n",
       "      <td>C</td>\n",
       "      <td>C5</td>\n",
       "      <td>...</td>\n",
       "      <td>3125.23</td>\n",
       "      <td>0.00</td>\n",
       "      <td>0.00</td>\n",
       "      <td>0.00</td>\n",
       "      <td>1916-05-01</td>\n",
       "      <td>1313.76</td>\n",
       "      <td>1916-05-01</td>\n",
       "      <td>0</td>\n",
       "      <td>2011</td>\n",
       "      <td>12</td>\n",
       "    </tr>\n",
       "  </tbody>\n",
       "</table>\n",
       "<p>5 rows × 45 columns</p>\n",
       "</div>"
      ],
      "text/plain": [
       "        id member_id  loan_amnt  funded_amnt  funded_amnt_inv        term  \\\n",
       "1  1077430   1314167       2500         2500           2500.0   60 months   \n",
       "3  1076863   1277178      10000        10000          10000.0   36 months   \n",
       "4  1075358   1311748       3000         3000           3000.0   60 months   \n",
       "5  1075269   1311441       5000         5000           5000.0   36 months   \n",
       "6  1069639   1304742       7000         7000           7000.0   60 months   \n",
       "\n",
       "   int_rate  installment grade sub_grade  ... total_rec_int  \\\n",
       "1     15.27        59.83     C        C4  ...        435.17   \n",
       "3     13.49       339.31     C        C1  ...       2214.92   \n",
       "4     12.69        67.79     B        B5  ...       1037.39   \n",
       "5      7.90       156.46     A        A4  ...        632.21   \n",
       "6     15.96       170.08     C        C5  ...       3125.23   \n",
       "\n",
       "  total_rec_late_fee recoveries  collection_recovery_fee last_pymnt_d  \\\n",
       "1               0.00     117.08                     1.11   1913-04-01   \n",
       "3              16.97       0.00                     0.00   1915-01-01   \n",
       "4               0.00       0.00                     0.00   1916-05-01   \n",
       "5               0.00       0.00                     0.00   1915-01-01   \n",
       "6               0.00       0.00                     0.00   1916-05-01   \n",
       "\n",
       "  last_pymnt_amnt last_credit_pull_d pub_rec_bankruptcies issue_d_years  \\\n",
       "1          119.66         1913-09-01                    0          2011   \n",
       "3          357.48         1916-04-01                    0          2011   \n",
       "4           67.79         1916-05-01                    0          2011   \n",
       "5          161.03         1916-01-01                    0          2011   \n",
       "6         1313.76         1916-05-01                    0          2011   \n",
       "\n",
       "  issue_d_months  \n",
       "1             12  \n",
       "3             12  \n",
       "4             12  \n",
       "5             12  \n",
       "6             12  \n",
       "\n",
       "[5 rows x 45 columns]"
      ]
     },
     "execution_count": 50,
     "metadata": {},
     "output_type": "execute_result"
    }
   ],
   "source": [
    "# First 5 records of the dataframe after data cleaning\n",
    "\n",
    "loan_df.head()"
   ]
  },
  {
   "cell_type": "code",
   "execution_count": 54,
   "id": "ca630ace",
   "metadata": {},
   "outputs": [
    {
     "data": {
      "text/plain": [
       "(37202, 45)"
      ]
     },
     "execution_count": 54,
     "metadata": {},
     "output_type": "execute_result"
    }
   ],
   "source": [
    "# Shape of the dataframe after data cleaning\n",
    "\n",
    "loan_df.shape"
   ]
  },
  {
   "cell_type": "markdown",
   "id": "22a01151",
   "metadata": {},
   "source": [
    "### 5. Filtering Data"
   ]
  },
  {
   "cell_type": "code",
   "execution_count": 51,
   "id": "37c9782e",
   "metadata": {},
   "outputs": [],
   "source": [
    "# Current loan details are not needed for analysing defaults. Hence, drop the rows that contains loan_status as \"Current\".\n",
    "\n",
    "loan_df = loan_df[loan_df['loan_status']!=\"Current\"]"
   ]
  },
  {
   "cell_type": "markdown",
   "id": "e1c71f7a",
   "metadata": {},
   "source": [
    "#### The most significant variables taken for analysing default / non-default records are:\n",
    "\n",
    "- id\n",
    "- loan_amnt\n",
    "- term\n",
    "- int_rate\n",
    "- grade\n",
    "- sub_grade\n",
    "- emp_title\n",
    "- emp_length\n",
    "- home_ownership\n",
    "- annual_inc\n",
    "- verification_status\n",
    "- loan_status\n",
    "- purpose\n",
    "- addr_state\n",
    "- dti\n",
    "- pub_rec_bankruptcies\n",
    "- issue_d_months\n",
    "- issue_d_years\n",
    "\n",
    "'id' is retained since it is the unique identifier column for the dataframe 'loan_df'.\n",
    "Therefore we shall drop other columns from the dataframe."
   ]
  },
  {
   "cell_type": "code",
   "execution_count": 52,
   "id": "7756fdb2",
   "metadata": {},
   "outputs": [],
   "source": [
    "# Filter significant data for analysis purpose\n",
    "\n",
    "loan_df = loan_df[['id','loan_amnt','term','int_rate','grade','sub_grade','emp_title','emp_length',\n",
    "                   'home_ownership','annual_inc','verification_status','loan_status','purpose','addr_state',\n",
    "                   'dti','pub_rec_bankruptcies','issue_d_months','issue_d_years']]"
   ]
  },
  {
   "cell_type": "code",
   "execution_count": 53,
   "id": "78ad9963",
   "metadata": {},
   "outputs": [
    {
     "data": {
      "text/plain": [
       "(36136, 18)"
      ]
     },
     "execution_count": 53,
     "metadata": {},
     "output_type": "execute_result"
    }
   ],
   "source": [
    "# Shape of the dataframe after filtering columns\n",
    "\n",
    "loan_df.shape"
   ]
  },
  {
   "cell_type": "code",
   "execution_count": 54,
   "id": "5f10cf2f",
   "metadata": {},
   "outputs": [
    {
     "data": {
      "text/plain": [
       "<AxesSubplot:>"
      ]
     },
     "execution_count": 54,
     "metadata": {},
     "output_type": "execute_result"
    },
    {
     "data": {
      "image/png": "[encoded data removed]",
      "text/plain": [
       "<Figure size 432x288 with 1 Axes>"
      ]
     },
     "metadata": {
      "needs_background": "light"
     },
     "output_type": "display_data"
    }
   ],
   "source": [
    "# Boxplot of 'dti' and 'int_rate' to check for outliers\n",
    "\n",
    "loan_df.boxplot(column=['dti','int_rate']) "
   ]
  },
  {
   "cell_type": "code",
   "execution_count": 55,
   "id": "c36f3d31",
   "metadata": {},
   "outputs": [
    {
     "data": {
      "text/plain": [
       "<AxesSubplot:>"
      ]
     },
     "execution_count": 55,
     "metadata": {},
     "output_type": "execute_result"
    },
    {
     "data": {
      "image/png": "[encoded data removed]",
      "text/plain": [
       "<Figure size 432x288 with 1 Axes>"
      ]
     },
     "metadata": {
      "needs_background": "light"
     },
     "output_type": "display_data"
    }
   ],
   "source": [
    "# Boxplot of 'annual_inc' and 'loan_amnt' to check for outliers\n",
    "\n",
    "loan_df.boxplot(column=['annual_inc','loan_amnt']) "
   ]
  },
  {
   "cell_type": "code",
   "execution_count": 56,
   "id": "d466fbce",
   "metadata": {},
   "outputs": [
    {
     "data": {
      "text/plain": [
       "count    3.613600e+04\n",
       "mean     6.903275e+04\n",
       "std      6.462191e+04\n",
       "min      4.000000e+03\n",
       "25%      4.100000e+04\n",
       "50%      6.000000e+04\n",
       "75%      8.200000e+04\n",
       "max      6.000000e+06\n",
       "Name: annual_inc, dtype: float64"
      ]
     },
     "execution_count": 56,
     "metadata": {},
     "output_type": "execute_result"
    }
   ],
   "source": [
    "# Checking outliers in annual_inc\n",
    "\n",
    "loan_df['annual_inc'].describe()"
   ]
  },
  {
   "cell_type": "code",
   "execution_count": 57,
   "id": "04d631e8",
   "metadata": {},
   "outputs": [
    {
     "name": "stdout",
     "output_type": "stream",
     "text": [
      "At 80%, annual income = 90000.0\n",
      "At 90%, annual income = 115000.0\n",
      "At 95%, annual income = 140000.0\n",
      "At 99%, annual income = 230000.0\n",
      "At 100%, annual income = 6000000.0\n"
     ]
    }
   ],
   "source": [
    "'''\n",
    "At 75th percentile, the value is nearly 82000 but suddenly it peaks to maximum of 6000000. This is an indication of an\n",
    "outlier and hence it has to be removed.\n",
    "\n",
    "Check at which percentile the value distorts more, so that v can remove the outlier beyond that percentile.\n",
    "\n",
    "'''\n",
    "print(\"At 80%, annual income =\",loan_df['annual_inc'].quantile(0.80))\n",
    "print(\"At 90%, annual income =\",loan_df['annual_inc'].quantile(0.90))\n",
    "print(\"At 95%, annual income =\",loan_df['annual_inc'].quantile(0.95))\n",
    "print(\"At 99%, annual income =\",loan_df['annual_inc'].quantile(0.99))\n",
    "print(\"At 100%, annual income =\",loan_df['annual_inc'].quantile(1.00))\n",
    "\n"
   ]
  },
  {
   "cell_type": "code",
   "execution_count": 58,
   "id": "e4afc2e0",
   "metadata": {},
   "outputs": [],
   "source": [
    "# Hence the value distorts more at 100%. So let us drop the records where annual_inc > 230000.\n",
    "\n",
    "loan_df = loan_df[~(loan_df['annual_inc']>230000)]"
   ]
  },
  {
   "cell_type": "code",
   "execution_count": 59,
   "id": "e08bdd1b",
   "metadata": {},
   "outputs": [
    {
     "data": {
      "text/plain": [
       "count     35781.000000\n",
       "mean      65609.124719\n",
       "std       34535.483814\n",
       "min        4000.000000\n",
       "25%       41000.000000\n",
       "50%       59000.000000\n",
       "75%       80952.000000\n",
       "max      230000.000000\n",
       "Name: annual_inc, dtype: float64"
      ]
     },
     "execution_count": 59,
     "metadata": {},
     "output_type": "execute_result"
    }
   ],
   "source": [
    "# After removal of outliers in 'annual_inc'\n",
    "\n",
    "loan_df['annual_inc'].describe()"
   ]
  },
  {
   "cell_type": "code",
   "execution_count": 60,
   "id": "90eb7572",
   "metadata": {},
   "outputs": [
    {
     "data": {
      "text/plain": [
       "<AxesSubplot:>"
      ]
     },
     "execution_count": 60,
     "metadata": {},
     "output_type": "execute_result"
    },
    {
     "data": {
      "image/png": "[encoded data removed]",
      "text/plain": [
       "<Figure size 432x288 with 1 Axes>"
      ]
     },
     "metadata": {
      "needs_background": "light"
     },
     "output_type": "display_data"
    }
   ],
   "source": [
    "# Boxplot of 'annual_inc' after removal of outliers\n",
    "\n",
    "loan_df.boxplot(column=['annual_inc']) "
   ]
  },
  {
   "cell_type": "code",
   "execution_count": 61,
   "id": "b337c936",
   "metadata": {},
   "outputs": [
    {
     "data": {
      "text/plain": [
       "(35781, 18)"
      ]
     },
     "execution_count": 61,
     "metadata": {},
     "output_type": "execute_result"
    }
   ],
   "source": [
    "# Shape of the dataframe after removing outliers\n",
    "\n",
    "loan_df.shape"
   ]
  },
  {
   "cell_type": "markdown",
   "id": "faaf912b",
   "metadata": {},
   "source": [
    "### Derived columns added to the dataframe using 'binning' technique"
   ]
  },
  {
   "cell_type": "code",
   "execution_count": 62,
   "id": "f318eded",
   "metadata": {},
   "outputs": [],
   "source": [
    "''' \n",
    "We shall create a derived column \"annual_inc_category\" which contains bins of different categories of annual_income.\n",
    "Categories - [0-10000],[10000-25000],[25000-50000],[50000-100000],[100000-150000],[150000-200000],[200000-250000]\n",
    "\n",
    "'''\n",
    "\n",
    "loan_df['annual_inc_category'] = pd.cut(x=loan_df['annual_inc'], \n",
    "                                 bins=[0,10000,25000,50000,100000,150000,200000,250000])"
   ]
  },
  {
   "cell_type": "code",
   "execution_count": 63,
   "id": "beb984a0",
   "metadata": {},
   "outputs": [
    {
     "data": {
      "text/plain": [
       "[(25000, 50000], (10000, 25000], (50000, 100000], (100000, 150000], (200000, 250000], (150000, 200000], (0, 10000]]\n",
       "Categories (7, interval[int64, right]): [(0, 10000] < (10000, 25000] < (25000, 50000] < (50000, 100000] < (100000, 150000] < (150000, 200000] < (200000, 250000]]"
      ]
     },
     "execution_count": 63,
     "metadata": {},
     "output_type": "execute_result"
    }
   ],
   "source": [
    "# 7 bins/categories of annual_inc is created\n",
    "\n",
    "loan_df['annual_inc_category'].unique()"
   ]
  },
  {
   "cell_type": "code",
   "execution_count": 64,
   "id": "378efa18",
   "metadata": {},
   "outputs": [
    {
     "data": {
      "text/plain": [
       "count    35781.000000\n",
       "mean        13.412951\n",
       "std          6.631328\n",
       "min          0.000000\n",
       "25%          8.340000\n",
       "50%         13.520000\n",
       "75%         18.650000\n",
       "max         29.990000\n",
       "Name: dti, dtype: float64"
      ]
     },
     "execution_count": 64,
     "metadata": {},
     "output_type": "execute_result"
    }
   ],
   "source": [
    "# To decide the bin size, we need the description of 'dti'\n",
    "\n",
    "loan_df['dti'].describe()"
   ]
  },
  {
   "cell_type": "code",
   "execution_count": 65,
   "id": "d50de41b",
   "metadata": {},
   "outputs": [],
   "source": [
    "''' \n",
    "We shall create a derived column \"debt_to_income_category\" which contains bins of different categories of 'dti'.\n",
    "Categories - [0-5],[5-10],[10-15],[15-20],[20-25],[25-30]\n",
    "\n",
    "'''\n",
    "\n",
    "loan_df['debt_to_income_category'] = pd.cut(x=loan_df['dti'], bins=[0,5,10,15,20,25,30])"
   ]
  },
  {
   "cell_type": "code",
   "execution_count": 66,
   "id": "98f82868",
   "metadata": {},
   "outputs": [
    {
     "data": {
      "text/plain": [
       "[(0.0, 5.0], (15.0, 20.0], (10.0, 15.0], (20.0, 25.0], (5.0, 10.0], (25.0, 30.0], NaN]\n",
       "Categories (6, interval[int64, right]): [(0, 5] < (5, 10] < (10, 15] < (15, 20] < (20, 25] < (25, 30]]"
      ]
     },
     "execution_count": 66,
     "metadata": {},
     "output_type": "execute_result"
    }
   ],
   "source": [
    "# Six bins/categories of dti is created\n",
    "\n",
    "loan_df['debt_to_income_category'].unique()"
   ]
  },
  {
   "cell_type": "code",
   "execution_count": 67,
   "id": "70fdee95",
   "metadata": {},
   "outputs": [
    {
     "data": {
      "text/plain": [
       "count    35781.000000\n",
       "mean        11.954006\n",
       "std          3.677521\n",
       "min          5.420000\n",
       "25%          8.940000\n",
       "50%         11.830000\n",
       "75%         14.420000\n",
       "max         24.400000\n",
       "Name: int_rate, dtype: float64"
      ]
     },
     "execution_count": 67,
     "metadata": {},
     "output_type": "execute_result"
    }
   ],
   "source": [
    "# To decide the bin size, we need the description of 'int_rate'\n",
    "\n",
    "loan_df['int_rate'].describe()"
   ]
  },
  {
   "cell_type": "code",
   "execution_count": 68,
   "id": "a873e6b6",
   "metadata": {},
   "outputs": [],
   "source": [
    "''' \n",
    "We shall create a derived column \"int_rate_category\" which contains bins of different categories of 'interest'.\n",
    "Categories - [5-10],[10-15],[15-20],[20-25]\n",
    "\n",
    "'''\n",
    "\n",
    "loan_df['int_rate_category'] = pd.cut(x=loan_df['int_rate'], bins=[5,10,15,20,25])"
   ]
  },
  {
   "cell_type": "code",
   "execution_count": 69,
   "id": "136f6a47",
   "metadata": {},
   "outputs": [
    {
     "data": {
      "text/plain": [
       "[(15, 20], (10, 15], (5, 10], (20, 25]]\n",
       "Categories (4, interval[int64, right]): [(5, 10] < (10, 15] < (15, 20] < (20, 25]]"
      ]
     },
     "execution_count": 69,
     "metadata": {},
     "output_type": "execute_result"
    }
   ],
   "source": [
    "# 4 bins/categories of 'int_rate' is created\n",
    "\n",
    "loan_df['int_rate_category'].unique()"
   ]
  },
  {
   "cell_type": "code",
   "execution_count": 70,
   "id": "ada16dc3",
   "metadata": {},
   "outputs": [
    {
     "data": {
      "text/plain": [
       "(35781, 21)"
      ]
     },
     "execution_count": 70,
     "metadata": {},
     "output_type": "execute_result"
    }
   ],
   "source": [
    "# Shape of the dataframe ready for analysis\n",
    "\n",
    "loan_df.shape"
   ]
  },
  {
   "cell_type": "code",
   "execution_count": 71,
   "id": "81b23ad8",
   "metadata": {},
   "outputs": [
    {
     "data": {
      "text/html": [
       "<div>\n",
       "<style scoped>\n",
       "    .dataframe tbody tr th:only-of-type {\n",
       "        vertical-align: middle;\n",
       "    }\n",
       "\n",
       "    .dataframe tbody tr th {\n",
       "        vertical-align: top;\n",
       "    }\n",
       "\n",
       "    .dataframe thead th {\n",
       "        text-align: right;\n",
       "    }\n",
       "</style>\n",
       "<table border=\"1\" class=\"dataframe\">\n",
       "  <thead>\n",
       "    <tr style=\"text-align: right;\">\n",
       "      <th></th>\n",
       "      <th>id</th>\n",
       "      <th>loan_amnt</th>\n",
       "      <th>term</th>\n",
       "      <th>int_rate</th>\n",
       "      <th>grade</th>\n",
       "      <th>sub_grade</th>\n",
       "      <th>emp_title</th>\n",
       "      <th>emp_length</th>\n",
       "      <th>home_ownership</th>\n",
       "      <th>annual_inc</th>\n",
       "      <th>...</th>\n",
       "      <th>loan_status</th>\n",
       "      <th>purpose</th>\n",
       "      <th>addr_state</th>\n",
       "      <th>dti</th>\n",
       "      <th>pub_rec_bankruptcies</th>\n",
       "      <th>issue_d_months</th>\n",
       "      <th>issue_d_years</th>\n",
       "      <th>annual_inc_category</th>\n",
       "      <th>debt_to_income_category</th>\n",
       "      <th>int_rate_category</th>\n",
       "    </tr>\n",
       "  </thead>\n",
       "  <tbody>\n",
       "    <tr>\n",
       "      <th>1</th>\n",
       "      <td>1077430</td>\n",
       "      <td>2500</td>\n",
       "      <td>60 months</td>\n",
       "      <td>15.27</td>\n",
       "      <td>C</td>\n",
       "      <td>C4</td>\n",
       "      <td>Ryder</td>\n",
       "      <td>&lt; 1 year</td>\n",
       "      <td>RENT</td>\n",
       "      <td>30000.0</td>\n",
       "      <td>...</td>\n",
       "      <td>Charged Off</td>\n",
       "      <td>car</td>\n",
       "      <td>GA</td>\n",
       "      <td>1.00</td>\n",
       "      <td>0</td>\n",
       "      <td>12</td>\n",
       "      <td>2011</td>\n",
       "      <td>(25000, 50000]</td>\n",
       "      <td>(0, 5]</td>\n",
       "      <td>(15, 20]</td>\n",
       "    </tr>\n",
       "    <tr>\n",
       "      <th>3</th>\n",
       "      <td>1076863</td>\n",
       "      <td>10000</td>\n",
       "      <td>36 months</td>\n",
       "      <td>13.49</td>\n",
       "      <td>C</td>\n",
       "      <td>C1</td>\n",
       "      <td>AIR RESOURCES BOARD</td>\n",
       "      <td>10+ years</td>\n",
       "      <td>RENT</td>\n",
       "      <td>49200.0</td>\n",
       "      <td>...</td>\n",
       "      <td>Fully Paid</td>\n",
       "      <td>other</td>\n",
       "      <td>CA</td>\n",
       "      <td>20.00</td>\n",
       "      <td>0</td>\n",
       "      <td>12</td>\n",
       "      <td>2011</td>\n",
       "      <td>(25000, 50000]</td>\n",
       "      <td>(15, 20]</td>\n",
       "      <td>(10, 15]</td>\n",
       "    </tr>\n",
       "    <tr>\n",
       "      <th>5</th>\n",
       "      <td>1075269</td>\n",
       "      <td>5000</td>\n",
       "      <td>36 months</td>\n",
       "      <td>7.90</td>\n",
       "      <td>A</td>\n",
       "      <td>A4</td>\n",
       "      <td>Veolia Transportaton</td>\n",
       "      <td>3 years</td>\n",
       "      <td>RENT</td>\n",
       "      <td>36000.0</td>\n",
       "      <td>...</td>\n",
       "      <td>Fully Paid</td>\n",
       "      <td>wedding</td>\n",
       "      <td>AZ</td>\n",
       "      <td>11.20</td>\n",
       "      <td>0</td>\n",
       "      <td>12</td>\n",
       "      <td>2011</td>\n",
       "      <td>(25000, 50000]</td>\n",
       "      <td>(10, 15]</td>\n",
       "      <td>(5, 10]</td>\n",
       "    </tr>\n",
       "    <tr>\n",
       "      <th>6</th>\n",
       "      <td>1069639</td>\n",
       "      <td>7000</td>\n",
       "      <td>60 months</td>\n",
       "      <td>15.96</td>\n",
       "      <td>C</td>\n",
       "      <td>C5</td>\n",
       "      <td>Southern Star Photography</td>\n",
       "      <td>8 years</td>\n",
       "      <td>RENT</td>\n",
       "      <td>47004.0</td>\n",
       "      <td>...</td>\n",
       "      <td>Fully Paid</td>\n",
       "      <td>debt_consolidation</td>\n",
       "      <td>NC</td>\n",
       "      <td>23.51</td>\n",
       "      <td>0</td>\n",
       "      <td>12</td>\n",
       "      <td>2011</td>\n",
       "      <td>(25000, 50000]</td>\n",
       "      <td>(20, 25]</td>\n",
       "      <td>(15, 20]</td>\n",
       "    </tr>\n",
       "    <tr>\n",
       "      <th>7</th>\n",
       "      <td>1072053</td>\n",
       "      <td>3000</td>\n",
       "      <td>36 months</td>\n",
       "      <td>18.64</td>\n",
       "      <td>E</td>\n",
       "      <td>E1</td>\n",
       "      <td>MKC Accounting</td>\n",
       "      <td>9 years</td>\n",
       "      <td>RENT</td>\n",
       "      <td>48000.0</td>\n",
       "      <td>...</td>\n",
       "      <td>Fully Paid</td>\n",
       "      <td>car</td>\n",
       "      <td>CA</td>\n",
       "      <td>5.35</td>\n",
       "      <td>0</td>\n",
       "      <td>12</td>\n",
       "      <td>2011</td>\n",
       "      <td>(25000, 50000]</td>\n",
       "      <td>(5, 10]</td>\n",
       "      <td>(15, 20]</td>\n",
       "    </tr>\n",
       "  </tbody>\n",
       "</table>\n",
       "<p>5 rows × 21 columns</p>\n",
       "</div>"
      ],
      "text/plain": [
       "        id  loan_amnt        term  int_rate grade sub_grade  \\\n",
       "1  1077430       2500   60 months     15.27     C        C4   \n",
       "3  1076863      10000   36 months     13.49     C        C1   \n",
       "5  1075269       5000   36 months      7.90     A        A4   \n",
       "6  1069639       7000   60 months     15.96     C        C5   \n",
       "7  1072053       3000   36 months     18.64     E        E1   \n",
       "\n",
       "                   emp_title emp_length home_ownership  annual_inc  ...  \\\n",
       "1                      Ryder   < 1 year           RENT     30000.0  ...   \n",
       "3        AIR RESOURCES BOARD  10+ years           RENT     49200.0  ...   \n",
       "5       Veolia Transportaton    3 years           RENT     36000.0  ...   \n",
       "6  Southern Star Photography    8 years           RENT     47004.0  ...   \n",
       "7            MKC Accounting     9 years           RENT     48000.0  ...   \n",
       "\n",
       "   loan_status             purpose addr_state    dti  pub_rec_bankruptcies  \\\n",
       "1  Charged Off                 car         GA   1.00                     0   \n",
       "3   Fully Paid               other         CA  20.00                     0   \n",
       "5   Fully Paid             wedding         AZ  11.20                     0   \n",
       "6   Fully Paid  debt_consolidation         NC  23.51                     0   \n",
       "7   Fully Paid                 car         CA   5.35                     0   \n",
       "\n",
       "   issue_d_months  issue_d_years  annual_inc_category debt_to_income_category  \\\n",
       "1              12           2011       (25000, 50000]                  (0, 5]   \n",
       "3              12           2011       (25000, 50000]                (15, 20]   \n",
       "5              12           2011       (25000, 50000]                (10, 15]   \n",
       "6              12           2011       (25000, 50000]                (20, 25]   \n",
       "7              12           2011       (25000, 50000]                 (5, 10]   \n",
       "\n",
       "  int_rate_category  \n",
       "1          (15, 20]  \n",
       "3          (10, 15]  \n",
       "5           (5, 10]  \n",
       "6          (15, 20]  \n",
       "7          (15, 20]  \n",
       "\n",
       "[5 rows x 21 columns]"
      ]
     },
     "execution_count": 71,
     "metadata": {},
     "output_type": "execute_result"
    }
   ],
   "source": [
    "# First 5 records of the dataframe ready for analysis\n",
    "\n",
    "loan_df.head()"
   ]
  },
  {
   "cell_type": "markdown",
   "id": "ca85d732",
   "metadata": {},
   "source": [
    "## Univariate analysis\n"
   ]
  },
  {
   "cell_type": "code",
   "execution_count": 72,
   "id": "06d98771",
   "metadata": {},
   "outputs": [
    {
     "data": {
      "text/plain": [
       "Fully Paid     30686\n",
       "Charged Off     5095\n",
       "Name: loan_status, dtype: int64"
      ]
     },
     "execution_count": 72,
     "metadata": {},
     "output_type": "execute_result"
    }
   ],
   "source": [
    "# Number of loans fully paid and charged off\n",
    "\n",
    "loan_df['loan_status'].value_counts()"
   ]
  },
  {
   "cell_type": "markdown",
   "id": "96923ae8",
   "metadata": {},
   "source": [
    "### Continuous variables of the dataframe : \n",
    "\n",
    "- loan_amnt\n",
    "- int_rate\n",
    "- annual_income\n",
    "- dti\n",
    "- pub_rec_bankruptcies\n",
    "- issue_d_months\n",
    "- issue_d_years\n",
    "\n",
    "### Categorical variables of the dataframe :\n",
    "\n",
    "- id\n",
    "- term\n",
    "- grade\n",
    "- sub_grade\n",
    "- emp_title\n",
    "- emp_length\n",
    "- home_ownership\n",
    "- verification_status\n",
    "- loan_status\n",
    "- purpose\n",
    "- addr_state\n",
    "- annual_inc_category\n",
    "- debt_to_income_category\n",
    "- int_rate_category\n",
    "\n"
   ]
  },
  {
   "cell_type": "code",
   "execution_count": 73,
   "id": "9c5be48c",
   "metadata": {},
   "outputs": [
    {
     "data": {
      "image/png": "[encoded data removed]",
      "text/plain": [
       "<Figure size 432x288 with 1 Axes>"
      ]
     },
     "metadata": {
      "needs_background": "light"
     },
     "output_type": "display_data"
    }
   ],
   "source": [
    "# Countplot for 'loan_status'\n",
    "\n",
    "sns.countplot(x = loan_df[\"loan_status\"])\n",
    "plt.show()"
   ]
  },
  {
   "cell_type": "markdown",
   "id": "cc1bb259",
   "metadata": {},
   "source": [
    "#### Inference - 85.8% of the loans are fully paid (non-defaulters) and 14.2% of the loans are charged off (defaulters)"
   ]
  },
  {
   "cell_type": "code",
   "execution_count": 74,
   "id": "b097ea70",
   "metadata": {},
   "outputs": [
    {
     "data": {
      "image/png": "[encoded data removed]",
      "text/plain": [
       "<Figure size 432x288 with 1 Axes>"
      ]
     },
     "metadata": {
      "needs_background": "light"
     },
     "output_type": "display_data"
    }
   ],
   "source": [
    "# Countplot for 'grade'\n",
    "\n",
    "sns.countplot(x ='grade', data=loan_df)\n",
    "plt.show()"
   ]
  },
  {
   "cell_type": "markdown",
   "id": "d98b3b8e",
   "metadata": {},
   "source": [
    "- Loan grades are assigned based on both the borrower’s credit profile and the nature of the contract. \n",
    "- 'A' grade loans represent the lowest risk while 'G' grade loans are the riskiest.\n",
    "#### Inference - B grade loans are issued the most, while riskier grade loans like E,F,G are issued less"
   ]
  },
  {
   "cell_type": "code",
   "execution_count": 75,
   "id": "b22e6e17",
   "metadata": {},
   "outputs": [
    {
     "name": "stderr",
     "output_type": "stream",
     "text": [
      "/Users/swetasarkar/opt/anaconda3/lib/python3.9/site-packages/seaborn/distributions.py:2619: FutureWarning: `distplot` is a deprecated function and will be removed in a future version. Please adapt your code to use either `displot` (a figure-level function with similar flexibility) or `histplot` (an axes-level function for histograms).\n",
      "  warnings.warn(msg, FutureWarning)\n"
     ]
    },
    {
     "data": {
      "image/png": "[encoded data removed]",
      "text/plain": [
       "<Figure size 432x288 with 1 Axes>"
      ]
     },
     "metadata": {
      "needs_background": "light"
     },
     "output_type": "display_data"
    }
   ],
   "source": [
    "# Distribution plot for 'loan_amnt'\n",
    "\n",
    "sns.distplot(loan_df['loan_amnt'])\n",
    "plt.show()"
   ]
  },
  {
   "cell_type": "markdown",
   "id": "3147d6d4",
   "metadata": {},
   "source": [
    "#### Inference - Most of the loans are issued for loan_amnt - 5000"
   ]
  },
  {
   "cell_type": "code",
   "execution_count": 77,
   "id": "bc049140",
   "metadata": {},
   "outputs": [
    {
     "data": {
      "image/png": "[encoded data removed]",
      "text/plain": [
       "<Figure size 432x288 with 1 Axes>"
      ]
     },
     "metadata": {
      "needs_background": "light"
     },
     "output_type": "display_data"
    }
   ],
   "source": [
    "# Histogram of 'dti'\n",
    "\n",
    "sns.histplot(loan_df['dti'])\n",
    "plt.show()"
   ]
  },
  {
   "cell_type": "markdown",
   "id": "f1ab51ca",
   "metadata": {},
   "source": [
    "#### Inference - The frequency of 'dti' (Debt To Income) is high around 14\n"
   ]
  },
  {
   "cell_type": "code",
   "execution_count": 78,
   "id": "a622e56e",
   "metadata": {},
   "outputs": [
    {
     "data": {
      "image/png": "[encoded data removed]",
      "text/plain": [
       "<Figure size 432x288 with 1 Axes>"
      ]
     },
     "metadata": {
      "needs_background": "light"
     },
     "output_type": "display_data"
    }
   ],
   "source": [
    "# Countplot for 'term'\n",
    "\n",
    "sns.countplot(x = \"term\", hue = \"loan_status\", data = loan_df)\n",
    "plt.xlabel(\"Loan Term in Months\")\n",
    "plt.show()"
   ]
  },
  {
   "cell_type": "markdown",
   "id": "de130cf8",
   "metadata": {},
   "source": [
    "#### Inference - Around 75% loans are issued for '36 months' and 25% loans are issued for '60 months'"
   ]
  },
  {
   "cell_type": "code",
   "execution_count": 79,
   "id": "431ee50c",
   "metadata": {},
   "outputs": [
    {
     "data": {
      "image/png": "[encoded data removed]",
      "text/plain": [
       "<Figure size 432x288 with 1 Axes>"
      ]
     },
     "metadata": {
      "needs_background": "light"
     },
     "output_type": "display_data"
    }
   ],
   "source": [
    "# Countplot for 'home_ownership'\n",
    "\n",
    "sns.countplot(x = loan_df[\"home_ownership\"])\n",
    "plt.show()"
   ]
  },
  {
   "cell_type": "markdown",
   "id": "85c4d8ba",
   "metadata": {},
   "source": [
    "#### Inference - Most of the loans are issued for clients who stay under 'RENT' or 'MORTGAGE'"
   ]
  },
  {
   "cell_type": "code",
   "execution_count": 80,
   "id": "a64842a1",
   "metadata": {},
   "outputs": [
    {
     "data": {
      "image/png": "[encoded data removed]",
      "text/plain": [
       "<Figure size 432x288 with 1 Axes>"
      ]
     },
     "metadata": {
      "needs_background": "light"
     },
     "output_type": "display_data"
    }
   ],
   "source": [
    "# Countplot for 'verification_status'\n",
    "\n",
    "sns.countplot(x = loan_df[\"verification_status\"])\n",
    "plt.show()"
   ]
  },
  {
   "cell_type": "markdown",
   "id": "fda5f8e0",
   "metadata": {},
   "source": [
    "#### Inference - 3 categories of Verification_status : \n",
    "Source Verified - client's income verified , Verified - client verified by LC , Not Verified\n",
    "\n",
    "Since the cumulative percentage of 'Source Verified' and 'Verified' is higher than that of 'Not Verified', it implies that more number of 'Verified' clients are issued loans"
   ]
  },
  {
   "cell_type": "markdown",
   "id": "8b287caf",
   "metadata": {},
   "source": [
    "## Segmented Univariate Analysis"
   ]
  },
  {
   "cell_type": "code",
   "execution_count": 81,
   "id": "4b4bfed4",
   "metadata": {},
   "outputs": [
    {
     "data": {
      "image/png": "[encoded data removed]",
      "text/plain": [
       "<Figure size 432x288 with 1 Axes>"
      ]
     },
     "metadata": {
      "needs_background": "light"
     },
     "output_type": "display_data"
    }
   ],
   "source": [
    "# Grouping by 'debt_to_income_category' and analysing the mean of 'dti' for each bin\n",
    "\n",
    "loan_df.groupby('debt_to_income_category')['dti'].mean().plot(kind='bar',ylabel='Mean of dti')\n",
    "plt.show()"
   ]
  },
  {
   "cell_type": "markdown",
   "id": "5393ffd4",
   "metadata": {},
   "source": [
    "#### Inference - debt_to_income (DTI) increases linearly across the splitted buckets / bins"
   ]
  },
  {
   "cell_type": "code",
   "execution_count": 82,
   "id": "807efc3f",
   "metadata": {},
   "outputs": [
    {
     "data": {
      "image/png": "[encoded data removed]",
      "text/plain": [
       "<Figure size 432x288 with 1 Axes>"
      ]
     },
     "metadata": {
      "needs_background": "light"
     },
     "output_type": "display_data"
    }
   ],
   "source": [
    "# Grouping by 'home_ownership' category and analysing how many clients fully paid or charged off for each category\n",
    "\n",
    "sns.countplot(x='home_ownership',hue='loan_status', data=loan_df)\n",
    "plt.xticks(rotation=90)\n",
    "plt.show()"
   ]
  },
  {
   "cell_type": "markdown",
   "id": "dedcc7ec",
   "metadata": {},
   "source": [
    "#### Inference - Charged Off loans are relatively lower for clients those who own the house compared to other categories"
   ]
  },
  {
   "cell_type": "code",
   "execution_count": 83,
   "id": "399a006f",
   "metadata": {},
   "outputs": [
    {
     "data": {
      "image/png": "[encoded data removed]",
      "text/plain": [
       "<Figure size 432x288 with 1 Axes>"
      ]
     },
     "metadata": {
      "needs_background": "light"
     },
     "output_type": "display_data"
    }
   ],
   "source": [
    "# Grouping by 'purpose' category and analysing how many clients fully paid or charged off for each purpose of loan\n",
    "\n",
    "sns.countplot(x='purpose', hue=\"loan_status\", data=loan_df)\n",
    "plt.xticks(rotation=90)\n",
    "plt.show()"
   ]
  },
  {
   "cell_type": "markdown",
   "id": "e7f3dcd3",
   "metadata": {},
   "source": [
    "#### Inferences\n",
    "- Most of the fully paid clients have opted loan for 'debt_consolidation' purpose\n",
    "- Charged off loans are also higher for 'debt_consolidation' purpose compared to other purposes of loan\n",
    "- Hence it is obvious that most of the loans are issued for 'debt_consolidation' purpose"
   ]
  },
  {
   "cell_type": "code",
   "execution_count": 84,
   "id": "aab31a50",
   "metadata": {},
   "outputs": [
    {
     "data": {
      "image/png": "[encoded data removed]",
      "text/plain": [
       "<Figure size 432x288 with 1 Axes>"
      ]
     },
     "metadata": {
      "needs_background": "light"
     },
     "output_type": "display_data"
    }
   ],
   "source": [
    "# Grouping by 'annual_inc_category' and analysing how many clients fully paid or Charged Off for each bin\n",
    "\n",
    "loan_df.groupby('annual_inc_category')['loan_status'].value_counts().unstack().plot(kind='bar',stacked=True,\n",
    "                                                                                    ylabel = 'Number of loans')\n",
    "plt.show()"
   ]
  },
  {
   "cell_type": "markdown",
   "id": "a6e43333",
   "metadata": {},
   "source": [
    "#### Inference - Clients having annual_inc > 100000 are likely to pay the loan fully\n"
   ]
  },
  {
   "cell_type": "code",
   "execution_count": 85,
   "id": "f7223afa",
   "metadata": {},
   "outputs": [
    {
     "data": {
      "image/png": "[encoded data removed]",
      "text/plain": [
       "<Figure size 432x288 with 1 Axes>"
      ]
     },
     "metadata": {
      "needs_background": "light"
     },
     "output_type": "display_data"
    }
   ],
   "source": [
    "# Grouping by years of loan-issue date and analysing how many clients fully paid or charged off for each year\n",
    "\n",
    "sns.countplot(x='issue_d_years',hue='loan_status', data=loan_df)\n",
    "plt.xticks(rotation=90)\n",
    "plt.show()"
   ]
  },
  {
   "cell_type": "markdown",
   "id": "0a237bc2",
   "metadata": {},
   "source": [
    "#### Inference - Both Charged Off and Fully Paid loans have linear growth over the years\n"
   ]
  },
  {
   "cell_type": "code",
   "execution_count": 89,
   "id": "c9602f62",
   "metadata": {},
   "outputs": [
    {
     "data": {
      "text/plain": [
       "<AxesSubplot:ylabel='Density'>"
      ]
     },
     "execution_count": 89,
     "metadata": {},
     "output_type": "execute_result"
    },
    {
     "data": {
      "image/png": "[encoded data removed]",
      "text/plain": [
       "<Figure size 432x288 with 1 Axes>"
      ]
     },
     "metadata": {
      "needs_background": "light"
     },
     "output_type": "display_data"
    }
   ],
   "source": [
    "# Kernel density estimate (KDE) plot for visualizing the distribution using a continuous probability density curve\n",
    "# kde plot for 'dti'\n",
    "\n",
    "loan_df['dti'].plot(kind='kde')"
   ]
  },
  {
   "cell_type": "markdown",
   "id": "acb5f7c3",
   "metadata": {},
   "source": [
    "#### Inference - Most of the issued loans have 'dti' values populated around 12-13"
   ]
  },
  {
   "cell_type": "code",
   "execution_count": 86,
   "id": "e471f911",
   "metadata": {},
   "outputs": [
    {
     "data": {
      "image/png": "[encoded data removed]",
      "text/plain": [
       "<Figure size 720x720 with 1 Axes>"
      ]
     },
     "metadata": {
      "needs_background": "light"
     },
     "output_type": "display_data"
    }
   ],
   "source": [
    "# Count of defaulters in each state\n",
    "\n",
    "g = loan_df[loan_df['loan_status']=='Charged Off'].groupby('addr_state')['loan_status'].count().reset_index()\n",
    "plt.figure(figsize=(10,10))\n",
    "sns.barplot(y='addr_state', x='loan_status', data=g)\n",
    "plt.xlabel('Count of Defaulters')\n",
    "plt.ylabel('State')\n",
    "plt.show()"
   ]
  },
  {
   "cell_type": "markdown",
   "id": "59ce69f8",
   "metadata": {},
   "source": [
    "#### Inference - More defaulters are from the state 'CA'"
   ]
  },
  {
   "cell_type": "code",
   "execution_count": 87,
   "id": "afe789f9",
   "metadata": {},
   "outputs": [
    {
     "data": {
      "image/png": "[encoded data removed]",
      "text/plain": [
       "<Figure size 432x288 with 1 Axes>"
      ]
     },
     "metadata": {
      "needs_background": "light"
     },
     "output_type": "display_data"
    }
   ],
   "source": [
    "# Grouping by int_rate_category and analysing how many clients fully paid or charged off for each bin\n",
    "\n",
    "loan_df['dti'].plot(kind='kde', title = \"KDE plot for DTI\",xlabel = 'DTI')\n",
    "plt.show()"
   ]
  },
  {
   "cell_type": "markdown",
   "id": "54efc77f",
   "metadata": {},
   "source": [
    "#### Inference - If the interest rate is lower, the loans are likely to be fully paid"
   ]
  },
  {
   "cell_type": "code",
   "execution_count": 88,
   "id": "f8f5792c",
   "metadata": {},
   "outputs": [
    {
     "data": {
      "image/png": "[encoded data removed]",
      "text/plain": [
       "<Figure size 432x288 with 1 Axes>"
      ]
     },
     "metadata": {
      "needs_background": "light"
     },
     "output_type": "display_data"
    }
   ],
   "source": [
    "# Grouping by int_rate_category and analysing how many clients fully paid or charged off for each bin\n",
    "\n",
    "sns.countplot(x='int_rate_category',hue='loan_status', data=loan_df)\n",
    "plt.xticks(rotation=90)\n",
    "plt.show()"
   ]
  },
  {
   "cell_type": "markdown",
   "id": "05d17d2e",
   "metadata": {},
   "source": [
    "#### Inference - If the interest rate is lower, the loans are likely to be fully paid"
   ]
  },
  {
   "cell_type": "code",
   "execution_count": 89,
   "id": "dd395c1b",
   "metadata": {},
   "outputs": [
    {
     "data": {
      "image/png": "[encoded data removed]",
      "text/plain": [
       "<Figure size 432x288 with 1 Axes>"
      ]
     },
     "metadata": {
      "needs_background": "light"
     },
     "output_type": "display_data"
    }
   ],
   "source": [
    "# Analysing the number of loans issued over the years using line graph\n",
    "\n",
    "g = loan_df.groupby('issue_d_years')['id'].count()\n",
    "g.plot.line(x_compat = True)\n",
    "plt.xticks(np.arange(min(g.index), max(g.index)+1, 1.0))\n",
    "plt.title('Number of loans granted over the years')\n",
    "plt.xlabel('Loan issued years')\n",
    "plt.ylabel('Number of issued loans')\n",
    "plt.show()"
   ]
  },
  {
   "cell_type": "markdown",
   "id": "b26a06b4",
   "metadata": {},
   "source": [
    "#### Inference - The number of issued-loans linearly increase across the years 2007 - 2011"
   ]
  },
  {
   "cell_type": "code",
   "execution_count": 90,
   "id": "1bac4558",
   "metadata": {},
   "outputs": [
    {
     "data": {
      "image/png": "[encoded data removed]",
      "text/plain": [
       "<Figure size 432x288 with 1 Axes>"
      ]
     },
     "metadata": {
      "needs_background": "light"
     },
     "output_type": "display_data"
    }
   ],
   "source": [
    "# Grouping by 'emp_length' and analysing how many clients fully paid or charged off for each category\n",
    "\n",
    "sns.countplot(x ='emp_length', hue=\"loan_status\", data=loan_df)\n",
    "plt.xticks(rotation=90)\n",
    "plt.show()"
   ]
  },
  {
   "cell_type": "markdown",
   "id": "2cdcbda3",
   "metadata": {},
   "source": [
    "#### Inference - Employees with 10+ years tend to charge off more than other employees"
   ]
  },
  {
   "cell_type": "markdown",
   "id": "84d186e7",
   "metadata": {},
   "source": [
    "## Bivariate Analysis"
   ]
  },
  {
   "cell_type": "code",
   "execution_count": 91,
   "id": "6bb2ed85",
   "metadata": {},
   "outputs": [
    {
     "data": {
      "image/png": "[encoded data removed]",
      "text/plain": [
       "<Figure size 432x288 with 1 Axes>"
      ]
     },
     "metadata": {
      "needs_background": "light"
     },
     "output_type": "display_data"
    }
   ],
   "source": [
    "# Analysing interest rates across various grades of loan using boxplots\n",
    "\n",
    "sns.boxplot(y='int_rate', x='grade', data=loan_df)\n",
    "plt.ylabel('Interest Rate')\n",
    "plt.show()"
   ]
  },
  {
   "cell_type": "markdown",
   "id": "13081da4",
   "metadata": {},
   "source": [
    "#### Inference - As the grades A,B,C,D,E,F,G are categorised as low to high risk,the interest rate increases as the risk increases\n"
   ]
  },
  {
   "cell_type": "code",
   "execution_count": 92,
   "id": "2c346279",
   "metadata": {},
   "outputs": [
    {
     "data": {
      "image/png": "[encoded data removed]",
      "text/plain": [
       "<Figure size 360x360 with 1 Axes>"
      ]
     },
     "metadata": {
      "needs_background": "light"
     },
     "output_type": "display_data"
    }
   ],
   "source": [
    "# Analysing grades of loans with their dti values and corresponding loan_status\n",
    "\n",
    "plt.figure(figsize=(5,5))\n",
    "\n",
    "sns.barplot(x='grade',y='dti',hue='loan_status',data = loan_df)\n",
    "plt.xlabel('Grades')\n",
    "plt.ylabel('Debt to Income')\n",
    "plt.show()"
   ]
  },
  {
   "cell_type": "markdown",
   "id": "589f0a65",
   "metadata": {},
   "source": [
    "#### Inference - Fully paid - grade A loans have the lowest debt_to_income values"
   ]
  },
  {
   "cell_type": "code",
   "execution_count": 96,
   "id": "bc60930b",
   "metadata": {},
   "outputs": [
    {
     "data": {
      "image/png": "[encoded data removed]",
      "text/plain": [
       "<Figure size 360x360 with 1 Axes>"
      ]
     },
     "metadata": {
      "needs_background": "light"
     },
     "output_type": "display_data"
    }
   ],
   "source": [
    "# Analysing grades of loans with their dti values and corresponding loan_status\n",
    "\n",
    "plt.figure(figsize=(5,5))\n",
    "\n",
    "sns.barplot(x='grade',y='dti',hue='loan_status',data = loan_df)\n",
    "plt.xlabel('Grades')\n",
    "plt.ylabel('Debt to Income')\n",
    "plt.show()"
   ]
  },
  {
   "cell_type": "markdown",
   "id": "bec79b93",
   "metadata": {},
   "source": [
    "#### Inference - Fully paid - grade A loans have the lowest debt_to_income values"
   ]
  },
  {
   "cell_type": "code",
   "execution_count": 93,
   "id": "a8e837cf",
   "metadata": {},
   "outputs": [
    {
     "data": {
      "image/png": "[encoded data removed]",
      "text/plain": [
       "<Figure size 576x432 with 2 Axes>"
      ]
     },
     "metadata": {
      "needs_background": "light"
     },
     "output_type": "display_data"
    }
   ],
   "source": [
    "# Analysing correlation of continous variables in the 'loan_df' dataframe using heatmap\n",
    "\n",
    "plt.figure(figsize=(8,6))\n",
    "sns.heatmap(loan_df.corr())\n",
    "plt.show()"
   ]
  },
  {
   "cell_type": "markdown",
   "id": "68991cef",
   "metadata": {},
   "source": [
    "#### Inferences from heatmap\n",
    "- Loan_amnt and annual_inc are slightly correlated\n",
    "- Int_rate and loan_amnt are slightly correlated"
   ]
  },
  {
   "cell_type": "code",
   "execution_count": 94,
   "id": "545189ac",
   "metadata": {},
   "outputs": [
    {
     "data": {
      "image/png": "[encoded data removed]",
      "text/plain": [
       "<Figure size 432x288 with 1 Axes>"
      ]
     },
     "metadata": {
      "needs_background": "light"
     },
     "output_type": "display_data"
    }
   ],
   "source": [
    "# Grouping by emp_length and grade for Charged Off clients to analyse pub_rec_bankruptcies\n",
    "\n",
    "g = loan_df[loan_df['loan_status']=='Charged Off']\n",
    "g.groupby(['emp_length','grade'])['pub_rec_bankruptcies'].sum().unstack().plot(kind='bar',\n",
    "                                                                   ylabel='Number of pub_rec_bankruptcies')\n",
    "plt.show()"
   ]
  },
  {
   "cell_type": "markdown",
   "id": "0eebb9c7",
   "metadata": {},
   "source": [
    "#### Inference - Many bankruptcies tend to occur with Charged Off clients having 10+ years working experience and mostly they are of D-grade loans"
   ]
  },
  {
   "cell_type": "code",
   "execution_count": 97,
   "id": "4fd8a2e6",
   "metadata": {},
   "outputs": [],
   "source": [
    "# Creating a dataframe containing important numeric columns for analysis\n",
    "\n",
    "numeric_columns = loan_df[['loan_amnt','int_rate','annual_inc','dti']]"
   ]
  },
  {
   "cell_type": "code",
   "execution_count": 96,
   "id": "90444853",
   "metadata": {},
   "outputs": [
    {
     "data": {
      "image/png": "[encoded data removed]",
      "text/plain": [
       "<Figure size 720x2160 with 4 Axes>"
      ]
     },
     "metadata": {
      "needs_background": "light"
     },
     "output_type": "display_data"
    }
   ],
   "source": [
    "# Boxplot for numeric columns against the target variable 'loan_status'\n",
    "\n",
    "plt.figure(figsize=(10,30))\n",
    "for i in range(len(numeric_columns.columns)):\n",
    "    plt.subplot(4,2, i + 1)\n",
    "    sns.boxplot(y=numeric_columns.columns[i], x='loan_status', data = loan_df)\n",
    "plt.show()"
   ]
  },
  {
   "cell_type": "markdown",
   "id": "f52e55eb",
   "metadata": {},
   "source": [
    "#### Inferences\n",
    "- Median for the boxplot of loan amount and loan status is more or less the same for fully paid and charged off clients, which means the loan amount cannot be used to predict default / non-default \n",
    "- Charged Off clients tend to have higher interest rates compared to Fully paid clients\n",
    "- Annual income of fully paid clients is slightly higher than that of Charged Off clients\n",
    "- Debt to Income value tends to be high for Charged Off clients rather than fully paid ones"
   ]
  },
  {
   "cell_type": "code",
   "execution_count": 98,
   "id": "e3385b6c",
   "metadata": {},
   "outputs": [
    {
     "data": {
      "image/png": "[encoded data removed]",
      "text/plain": [
       "<Figure size 360x360 with 1 Axes>"
      ]
     },
     "metadata": {
      "needs_background": "light"
     },
     "output_type": "display_data"
    }
   ],
   "source": [
    "# Analysing annual_inc_category with their pub_rec_bankruptcies and corresponding loan_status\n",
    "\n",
    "plt.figure(figsize=(5,5))\n",
    "sns.barplot(x='annual_inc_category',y='pub_rec_bankruptcies',hue='loan_status',data = loan_df)\n",
    "plt.xlabel('Annual Income category')\n",
    "plt.ylabel('Pub_rec_bankruptcies')\n",
    "plt.xticks(rotation=90)\n",
    "plt.show()"
   ]
  },
  {
   "cell_type": "markdown",
   "id": "5fa8fc00",
   "metadata": {},
   "source": [
    "#### Inferences \n",
    "- There are no Charged Off loans for annual income <10000\n",
    "- Clients with pub_rec_bankruptcies tend to get charged off"
   ]
  },
  {
   "cell_type": "code",
   "execution_count": 99,
   "id": "3681a3b4",
   "metadata": {},
   "outputs": [
    {
     "data": {
      "image/png": "[encoded data removed]",
      "text/plain": [
       "<Figure size 432x288 with 1 Axes>"
      ]
     },
     "metadata": {
      "needs_background": "light"
     },
     "output_type": "display_data"
    }
   ],
   "source": [
    "# Analysing relationship between loan_amnt and annual_income buckets using barplot\n",
    "\n",
    "sns.barplot(y ='loan_amnt', x ='annual_inc_category', data = loan_df)\n",
    "plt.ylabel('loan_amnt')\n",
    "plt.xlabel('Annual Income')\n",
    "plt.xticks(rotation=90)\n",
    "plt.show()"
   ]
  },
  {
   "cell_type": "markdown",
   "id": "a4806ea3",
   "metadata": {},
   "source": [
    "#### Inference - As annual income increases, loan amount also increases (shows positive correlation)"
   ]
  },
  {
   "cell_type": "code",
   "execution_count": 100,
   "id": "b50539c0",
   "metadata": {},
   "outputs": [
    {
     "data": {
      "image/png": "[encoded data removed]",
      "text/plain": [
       "<Figure size 432x288 with 1 Axes>"
      ]
     },
     "metadata": {
      "needs_background": "light"
     },
     "output_type": "display_data"
    }
   ],
   "source": [
    "# Analysing relationship between loan_amnt and int_rate buckets using barplot\n",
    "\n",
    "sns.barplot(y ='loan_amnt', x ='int_rate_category', data = loan_df)\n",
    "plt.ylabel('loan_amnt')\n",
    "plt.xlabel('Interest Rate Bins')\n",
    "plt.xticks(rotation=90)\n",
    "plt.show()"
   ]
  },
  {
   "cell_type": "markdown",
   "id": "fc27c613",
   "metadata": {},
   "source": [
    "#### Inference - As loan_amount increases, interest rate also increases (shows positive correlation)"
   ]
  },
  {
   "cell_type": "code",
   "execution_count": 101,
   "id": "2ec4c06c",
   "metadata": {},
   "outputs": [
    {
     "data": {
      "image/png": "[encoded data removed]",
      "text/plain": [
       "<Figure size 432x288 with 1 Axes>"
      ]
     },
     "metadata": {
      "needs_background": "light"
     },
     "output_type": "display_data"
    }
   ],
   "source": [
    "# Grouping by annual_inc_category and int_rate_category to analyse number of defaulters in each category\n",
    "\n",
    "g = loan_df[loan_df['loan_status']=='Charged Off']\n",
    "g.groupby(['annual_inc_category','int_rate_category'])['loan_status'].count().unstack().plot(kind='bar',\n",
    "                                                                   ylabel='Number of defaulters')\n",
    "plt.show()"
   ]
  },
  {
   "cell_type": "markdown",
   "id": "99a4452d",
   "metadata": {},
   "source": [
    "#### Inference - Many defaulters tend to have[50000-100000] annual income and most probably the interest rates of these loans fall under [10%-15%] category"
   ]
  },
  {
   "cell_type": "markdown",
   "id": "26523a7e",
   "metadata": {},
   "source": [
    "# Insights obtained from Univariate analysis\n"
   ]
  },
  {
   "cell_type": "markdown",
   "id": "61d0faaa",
   "metadata": {},
   "source": [
    "- 85.8% of the loans are fully paid (non-defaulters) and 14.2% of the loans are charged off (defaulters)\n",
    "- B and A grade loans are issued the most, while riskier grade loans like E,F,G are issued less\n",
    "- Most of the loans are issued for loan_amnt - 5000\n",
    "- The frequency of 'dti' (Debt To Income) is high around 14, which means most of the issued loans have debt to income ratio around 14\n",
    "- Around 75% loans are issued for '36 months' and 25% loans are issued for '60 months'\n",
    "- Most of the loans are issued for clients who stay under 'RENT' or 'MORTGAGE'\n",
    "- The cumulative percentage of 'Source Verified' and 'Verified' is higher than that of 'Not Verified', which implies that more number of 'Verified' clients are issued loans"
   ]
  },
  {
   "cell_type": "markdown",
   "id": "9a1e236d",
   "metadata": {},
   "source": [
    "# Insights obtained from Segmented Univariate analysis\n",
    "- Mean of debt_to_income (DTI) increases linearly across the splitted debt_to_income buckets / bins\n",
    "- Charged Off loans are relatively lower for clients those who own the house compared to other categories of home ownership\n",
    "- Most of the loans are issued for 'debt_consolidation' purpose\n",
    "- Clients having annual_inc > 100000 are likely to pay the loan fully\n",
    "- The number of Charged Off and Fully Paid loans have linear growth over the years 2007 - 2011\n",
    "- More defaulters are from the state 'CA'\n",
    "- Most of the issued loans have 'dti' values populated around 13-14\n",
    "- If the interest rate is lower, the loans are likely to be fully paid\n",
    "- The number of issued-loans linearly increase across the years 2007 - 2011\n",
    "- Employees with 10+ years tend to get charged off more than other employees"
   ]
  },
  {
   "cell_type": "markdown",
   "id": "b55e3da5",
   "metadata": {},
   "source": [
    "# Insights obtained from Bivariate analysis\n",
    "- As the grades A,B,C,D,E,F,G are categorised from low to high risk,the interest rate increases as the risk increases\n",
    "- Fully paid - grade A loans have the lowest debt_to_income values\n",
    "- From the heatmap, we observed that loan_amnt and annual_inc are correlated while int_rate and loan_amnt are also slightly correlated \n",
    "- As annual income increases, loan amount also increases (shows positive correlation)\n",
    "- As loan_amount increases, interest rate also increases (shows positive correlation)\n",
    "- Many bankruptcies tend to occur with Charged Off clients having 10+ years working experience and mostly they are of D-grade loans\n",
    "- Median for the boxplot of loan amount and loan status is more or less the same for fully paid and charged off clients, which means the loan amount cannot be used to predict default / non-default\n",
    "- Charged Off clients tend to have higher interest rates compared to Fully paid clients\n",
    "- Annual income of fully paid clients is slightly higher than that of Charged Off clients\n",
    "- Debt to Income value tends to be high for Charged Off clients rather than fully paid ones\n",
    "- There are no Charged Off loans for annual income <10000\n",
    "- Clients with pub_rec_bankruptcies tend to get charged off\n",
    "- Many defaulters tend to have[50000-100000] annual income and most probably the interest rates of these loans fall under [10%-15%] category"
   ]
  },
  {
   "cell_type": "markdown",
   "id": "da197a53",
   "metadata": {},
   "source": [
    "# Recommendations\n"
   ]
  },
  {
   "cell_type": "markdown",
   "id": "6c4b28c8",
   "metadata": {},
   "source": [
    "#### - 5 Major predictors (strong indicators) of deciding whether a loan applicant tend to default or not :\n",
    "        1. DTI \n",
    "        2. Grades\n",
    "        3. Verification Status\n",
    "        4. Annual income\n",
    "        5. Pub_rec_bankruptcies\n",
    "#### - Other considerations for 'defaults' :\n",
    "        1. Clients from 'CA' state \n",
    "        2. Clients having income in the range 50000-100000\n",
    "        3. Clients having pub_rec_bankruptcies\n",
    "        4. Clients with least grades like E,F,G \n",
    "        5. Clients with very high Debt to Income value\n",
    "        6. Clients with working experience 10+ years"
   ]
  },
  {
   "cell_type": "code",
   "execution_count": null,
   "id": "b5fb3672",
   "metadata": {},
   "outputs": [],
   "source": []
  }
 ],
 "metadata": {
  "kernelspec": {
   "display_name": "Python 3 (ipykernel)",
   "language": "python",
   "name": "python3"
  },
  "language_info": {
   "codemirror_mode": {
    "name": "ipython",
    "version": 3
   },
   "file_extension": ".py",
   "mimetype": "text/x-python",
   "name": "python",
   "nbconvert_exporter": "python",
   "pygments_lexer": "ipython3",
   "version": "3.9.7"
  }
 },
 "nbformat": 4,
 "nbformat_minor": 5
}
